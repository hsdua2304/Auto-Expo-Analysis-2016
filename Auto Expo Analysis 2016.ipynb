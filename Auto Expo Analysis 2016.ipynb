{
 "cells": [
  {
   "cell_type": "markdown",
   "metadata": {},
   "source": [
    "# AutoExpo 2016 Analysis\n",
    "\n",
    "\n",
    "## First step :   Collecting tweets with help of Twitter Streaming API"
   ]
  },
  {
   "cell_type": "raw",
   "metadata": {},
   "source": [
    "from tweepy.streaming import StreamListener\n",
    "from tweepy import OAuthHandler\n",
    "from tweepy import Stream\n",
    "\n",
    "#These variables contain the credentials for accessing tweets through twitter \n",
    "access_token = \"2932636388-Y95Nj2gZIBV9eHtIZJF8e79UqWHwlbnVOc8HIH4\"\n",
    "access_token_secret = \"T3AltGmYJ9EVKJrutm5xcj53aOOPgRW7CQuUzyYfGwJWf\"\n",
    "consumer_key = \"Pb7370RdndM7wepDO8w6OsB80\"\n",
    "consumer_secret = \"FKwKvocjaZeFeI67AV08vIAj6otZEPG68xDfafEKKoBjvg3XlI\"\n",
    "\n",
    "\n",
    "class StdOutListener(StreamListener):\n",
    "\n",
    "    def on_data(self, data):\n",
    "        try:\n",
    "            with open('tweets.txt','a') as tf:\n",
    "                \n",
    "                tf.write(data)\n",
    "                return True\n",
    "        except BaseException as e:\n",
    "            print(\"Error on_data: %s\" % str(e))\n",
    "        return True\n",
    "\n",
    "    def on_error(self, status):\n",
    "        print status\n",
    "        return True\n",
    "\n",
    "        \n",
    "        \n",
    "if __name__ == '__main__':\n",
    "\n",
    "    #This handles Twitter authetification and the connection to Twitter Streaming API\n",
    "    l = StdOutListener()\n",
    "    auth = OAuthHandler(consumer_key, consumer_secret)\n",
    "    auth.set_access_token(access_token, access_token_secret)\n",
    "    stream = Stream(auth, l)\n",
    "\n",
    "    stream.filter(track=['AETMS2016','AutoExpo2016','autoexpo2016','auto expo','Auto Expo 2016'])"
   ]
  },
  {
   "cell_type": "code",
   "execution_count": 1,
   "metadata": {
    "collapsed": true
   },
   "outputs": [],
   "source": [
    "import pandas as pd\n",
    "import numpy as np\n",
    "from pandas import Series,DataFrame\n",
    "import json\n",
    "import string\n",
    "import re\n",
    "from pylab import *\n",
    "import operator \n",
    "from collections import Counter\n",
    "import matplotlib.pyplot as plt\n",
    "import seaborn as sns\n",
    "sns.set_style('whitegrid')\n",
    "%matplotlib inline\n"
   ]
  },
  {
   "cell_type": "markdown",
   "metadata": {},
   "source": [
    "### Total Number of tweets and sample tweets"
   ]
  },
  {
   "cell_type": "code",
   "execution_count": 2,
   "metadata": {
    "collapsed": false
   },
   "outputs": [
    {
     "name": "stdout",
     "output_type": "stream",
     "text": [
      "Sample Tweet in JSON Format : \n",
      "\n",
      "[\n",
      "  {\n",
      "    \"created_at\": \"Fri Feb 05 13:00:13 +0000 2016\",\n",
      "    \"truncated\": false,\n",
      "    \"in_reply_to_user_id\": null,\n",
      "    \"user\": {\n",
      "      \"created_at\": \"Sat Oct 01 12:15:40 +0000 2011\",\n",
      "      \"notifications\": null,\n",
      "      \"description\": \"A Student | Childish Teenager | Social Media Influencer | Contests Freak | Gadget Lovers | @imVkohli Addict | Love Cricket | Proud Indian |\",\n",
      "      \"profile_link_color\": \"3B94D9\",\n",
      "      \"verified\": false,\n",
      "      \"favourites_count\": 23581,\n",
      "      \"following\": null,\n",
      "      \"follow_request_sent\": null,\n",
      "      \"id_str\": \"383179849\",\n",
      "      \"profile_text_color\": \"3C3940\",\n",
      "      \"location\": \"Hyderabad, India\",\n",
      "      \"friends_count\": 3485,\n",
      "      \"statuses_count\": 77384,\n",
      "      \"profile_image_url\": \"http://pbs.twimg.com/profile_images/694233257538269185/4xKWpeVf_normal.jpg\",\n",
      "      \"profile_sidebar_fill_color\": \"95E8EC\",\n",
      "      \"default_profile\": false,\n",
      "      \"profile_background_color\": \"FFCC4D\",\n",
      "      \"followers_count\": 108975,\n",
      "      \"profile_sidebar_border_color\": \"FFFFFF\",\n",
      "      \"url\": \"http://instagram.com/sujaykoner\",\n",
      "      \"protected\": false,\n",
      "      \"time_zone\": \"New Delhi\",\n",
      "      \"geo_enabled\": true,\n",
      "      \"is_translator\": false,\n",
      "      \"screen_name\": \"sujaykoner\",\n",
      "      \"contributors_enabled\": false,\n",
      "      \"profile_banner_url\": \"https://pbs.twimg.com/profile_banners/383179849/1453226224\",\n",
      "      \"profile_background_tile\": false,\n",
      "      \"default_profile_image\": false,\n",
      "      \"lang\": \"en\",\n",
      "      \"profile_background_image_url\": \"http://pbs.twimg.com/profile_background_images/625233766513045504/LrLjLYHN.jpg\",\n",
      "      \"id\": 383179849,\n",
      "      \"name\": \"Sujay Koner\",\n",
      "      \"profile_use_background_image\": true,\n",
      "      \"listed_count\": 72,\n",
      "      \"utc_offset\": 19800,\n",
      "      \"profile_background_image_url_https\": \"https://pbs.twimg.com/profile_background_images/625233766513045504/LrLjLYHN.jpg\",\n",
      "      \"profile_image_url_https\": \"https://pbs.twimg.com/profile_images/694233257538269185/4xKWpeVf_normal.jpg\"\n",
      "    },\n",
      "    \"source\": \"<a href=\\\"http://linkis.com\\\" rel=\\\"nofollow\\\">Linkis.com</a>\",\n",
      "    \"in_reply_to_user_id_str\": null,\n",
      "    \"possibly_sensitive\": false,\n",
      "    \"favorite_count\": 0,\n",
      "    \"in_reply_to_status_id_str\": null,\n",
      "    \"text\": \"Now GO-cross Concept has added a sense of fun &amp; adventure to the line-up at the #DatsunPavilion #AETMS2016  https://t.co/q2m8ZPbkn7\",\n",
      "    \"geo\": null,\n",
      "    \"timestamp_ms\": \"1454677213658\",\n",
      "    \"id_str\": \"695592766412341248\",\n",
      "    \"in_reply_to_status_id\": null,\n",
      "    \"retweeted\": false,\n",
      "    \"contributors\": null,\n",
      "    \"retweet_count\": 0,\n",
      "    \"filter_level\": \"low\",\n",
      "    \"coordinates\": null,\n",
      "    \"place\": null,\n",
      "    \"lang\": \"en\",\n",
      "    \"id\": 695592766412341248,\n",
      "    \"favorited\": false,\n",
      "    \"is_quote_status\": false,\n",
      "    \"in_reply_to_screen_name\": null,\n",
      "    \"entities\": {\n",
      "      \"symbols\": [],\n",
      "      \"user_mentions\": [],\n",
      "      \"urls\": [\n",
      "        {\n",
      "          \"indices\": [\n",
      "            112,\n",
      "            135\n",
      "          ],\n",
      "          \"expanded_url\": \"http://ln.is/www.youtube.com/bqd3I\",\n",
      "          \"url\": \"https://t.co/q2m8ZPbkn7\",\n",
      "          \"display_url\": \"ln.is/www.youtube.co\\u2026\"\n",
      "        }\n",
      "      ],\n",
      "      \"hashtags\": [\n",
      "        {\n",
      "          \"indices\": [\n",
      "            84,\n",
      "            99\n",
      "          ],\n",
      "          \"text\": \"DatsunPavilion\"\n",
      "        },\n",
      "        {\n",
      "          \"indices\": [\n",
      "            100,\n",
      "            110\n",
      "          ],\n",
      "          \"text\": \"AETMS2016\"\n",
      "        }\n",
      "      ]\n",
      "    }\n",
      "  }\n",
      "]\n"
     ]
    }
   ],
   "source": [
    "tweets = []\n",
    "f = open('tweets.json', 'r',encoding='utf-8')\n",
    "for line in f:\n",
    "    try:\n",
    "        tweet = json.loads(line)\n",
    "        tweets.append(tweet)\n",
    "    except:\n",
    "        continue\n",
    "        \n",
    "print('Sample Tweet in JSON Format : \\n')\n",
    "print(json.dumps(tweets[1:2],indent=2))"
   ]
  },
  {
   "cell_type": "code",
   "execution_count": 3,
   "metadata": {
    "collapsed": false
   },
   "outputs": [
    {
     "name": "stdout",
     "output_type": "stream",
     "text": [
      "Total Numbe of tweets of tweets: 24087\n",
      "\n",
      "\n",
      "Example tweets : \n",
      "\n",
      "RT @PressPlayTVapp: Get all action from @AutoExpo2016  on #PressPlay! Download the App Now: https://t.co/WIEt5hbRZ5 #automobile #AETMS16 ht…\n",
      "---------------------------------------------------------------------------------\n",
      "Now GO-cross Concept has added a sense of fun &amp; adventure to the line-up at the #DatsunPavilion #AETMS2016  https://t.co/q2m8ZPbkn7\n",
      "---------------------------------------------------------------------------------\n",
      "RT @AutoExpo2016: It's raining celebrities at #AETMS16! #Spotted the dashing @AnilKapoor at the @Maruti_Corp pavilion @NexaExperience https…\n",
      "---------------------------------------------------------------------------------\n",
      "The Honda BR-V at the #AutoExpo2016 , how does it look ? https://t.co/oICRRqZpVY\n",
      "---------------------------------------------------------------------------------\n",
      "RT @moneycontrolcom: BMW launches X5 xDrive30d M Sport priced at Rs 75.90 lakh https://t.co/iOLXulKNUq @odmag @BMW #AutoExpo2016 https://t.…\n",
      "---------------------------------------------------------------------------------\n"
     ]
    }
   ],
   "source": [
    "print('Total Numbe of tweets of tweets:', len(tweets))\n",
    "print('\\n')\n",
    "print('Example tweets : \\n')\n",
    "for tweet in tweets[:5]:\n",
    "    print(tweet['text'])\n",
    "    print('---------------------------------------------------------------------------------')"
   ]
  },
  {
   "cell_type": "markdown",
   "metadata": {},
   "source": [
    "## Fetching Datasets"
   ]
  },
  {
   "cell_type": "code",
   "execution_count": 43,
   "metadata": {
    "collapsed": false
   },
   "outputs": [],
   "source": [
    " #Timeseries dataset for tweets generated in every 5 minutes.\n",
    "timeseries_df = pd.read_csv('timeseries_dataset.csv')\n",
    "#Frequency Dataset for frequency of Hashtags,Mentions,Screen names and Languages.\n",
    "freq_df = pd.read_csv('frequency_dataset.csv',encoding = \"ISO-8859-1\") \n",
    "#Expo Dataset for tweets generated.\n",
    "tweet_df = pd.read_csv('expoDataset.csv',encoding = \"ISO-8859-1\")"
   ]
  },
  {
   "cell_type": "markdown",
   "metadata": {},
   "source": [
    "## Dataset Samples"
   ]
  },
  {
   "cell_type": "code",
   "execution_count": 44,
   "metadata": {
    "collapsed": false
   },
   "outputs": [
    {
     "data": {
      "text/html": [
       "<div>\n",
       "<table border=\"1\" class=\"dataframe\">\n",
       "  <thead>\n",
       "    <tr style=\"text-align: right;\">\n",
       "      <th></th>\n",
       "      <th>Time</th>\n",
       "      <th>total_freq</th>\n",
       "      <th>BMW</th>\n",
       "      <th>DATSUN</th>\n",
       "      <th>FORD</th>\n",
       "      <th>HONDA</th>\n",
       "      <th>JAGUAR</th>\n",
       "      <th>MARUTI</th>\n",
       "      <th>NISSAN</th>\n",
       "      <th>TATA</th>\n",
       "      <th>TOYOTA</th>\n",
       "    </tr>\n",
       "  </thead>\n",
       "  <tbody>\n",
       "    <tr>\n",
       "      <th>0</th>\n",
       "      <td>05-02-2016 13:00</td>\n",
       "      <td>67</td>\n",
       "      <td>11</td>\n",
       "      <td>49</td>\n",
       "      <td>3</td>\n",
       "      <td>1</td>\n",
       "      <td>0</td>\n",
       "      <td>5</td>\n",
       "      <td>0</td>\n",
       "      <td>3</td>\n",
       "      <td>1</td>\n",
       "    </tr>\n",
       "    <tr>\n",
       "      <th>1</th>\n",
       "      <td>05-02-2016 13:05</td>\n",
       "      <td>76</td>\n",
       "      <td>5</td>\n",
       "      <td>35</td>\n",
       "      <td>7</td>\n",
       "      <td>13</td>\n",
       "      <td>3</td>\n",
       "      <td>1</td>\n",
       "      <td>0</td>\n",
       "      <td>2</td>\n",
       "      <td>2</td>\n",
       "    </tr>\n",
       "    <tr>\n",
       "      <th>2</th>\n",
       "      <td>05-02-2016 13:10</td>\n",
       "      <td>97</td>\n",
       "      <td>15</td>\n",
       "      <td>55</td>\n",
       "      <td>9</td>\n",
       "      <td>0</td>\n",
       "      <td>0</td>\n",
       "      <td>3</td>\n",
       "      <td>5</td>\n",
       "      <td>2</td>\n",
       "      <td>4</td>\n",
       "    </tr>\n",
       "    <tr>\n",
       "      <th>3</th>\n",
       "      <td>05-02-2016 13:15</td>\n",
       "      <td>47</td>\n",
       "      <td>8</td>\n",
       "      <td>23</td>\n",
       "      <td>10</td>\n",
       "      <td>1</td>\n",
       "      <td>1</td>\n",
       "      <td>1</td>\n",
       "      <td>0</td>\n",
       "      <td>2</td>\n",
       "      <td>2</td>\n",
       "    </tr>\n",
       "    <tr>\n",
       "      <th>4</th>\n",
       "      <td>05-02-2016 13:20</td>\n",
       "      <td>71</td>\n",
       "      <td>4</td>\n",
       "      <td>18</td>\n",
       "      <td>5</td>\n",
       "      <td>2</td>\n",
       "      <td>2</td>\n",
       "      <td>4</td>\n",
       "      <td>0</td>\n",
       "      <td>9</td>\n",
       "      <td>0</td>\n",
       "    </tr>\n",
       "  </tbody>\n",
       "</table>\n",
       "</div>"
      ],
      "text/plain": [
       "               Time  total_freq  BMW  DATSUN  FORD  HONDA  JAGUAR  MARUTI  \\\n",
       "0  05-02-2016 13:00          67   11      49     3      1       0       5   \n",
       "1  05-02-2016 13:05          76    5      35     7     13       3       1   \n",
       "2  05-02-2016 13:10          97   15      55     9      0       0       3   \n",
       "3  05-02-2016 13:15          47    8      23    10      1       1       1   \n",
       "4  05-02-2016 13:20          71    4      18     5      2       2       4   \n",
       "\n",
       "   NISSAN  TATA  TOYOTA  \n",
       "0       0     3       1  \n",
       "1       0     2       2  \n",
       "2       5     2       4  \n",
       "3       0     2       2  \n",
       "4       0     9       0  "
      ]
     },
     "execution_count": 44,
     "metadata": {},
     "output_type": "execute_result"
    }
   ],
   "source": [
    "timeseries_df.head()"
   ]
  },
  {
   "cell_type": "code",
   "execution_count": 6,
   "metadata": {
    "collapsed": false
   },
   "outputs": [
    {
     "data": {
      "text/html": [
       "<div>\n",
       "<table border=\"1\" class=\"dataframe\">\n",
       "  <thead>\n",
       "    <tr style=\"text-align: right;\">\n",
       "      <th></th>\n",
       "      <th>Hashtags</th>\n",
       "      <th>Hashtag_count</th>\n",
       "      <th>Mentions</th>\n",
       "      <th>Mention_count</th>\n",
       "      <th>TermsOnly</th>\n",
       "      <th>Term_count</th>\n",
       "      <th>Language</th>\n",
       "      <th>Language_count</th>\n",
       "      <th>ScreenName</th>\n",
       "      <th>screenname_count</th>\n",
       "      <th>Places</th>\n",
       "      <th>places_count</th>\n",
       "    </tr>\n",
       "  </thead>\n",
       "  <tbody>\n",
       "    <tr>\n",
       "      <th>0</th>\n",
       "      <td>#AutoExpo2016</td>\n",
       "      <td>7190</td>\n",
       "      <td>@AutoExpo2016</td>\n",
       "      <td>5164</td>\n",
       "      <td>Expo</td>\n",
       "      <td>9452</td>\n",
       "      <td>English</td>\n",
       "      <td>20937</td>\n",
       "      <td>JLRIndia</td>\n",
       "      <td>317</td>\n",
       "      <td>New Delhi</td>\n",
       "      <td>4687</td>\n",
       "    </tr>\n",
       "    <tr>\n",
       "      <th>1</th>\n",
       "      <td>#AETMS16</td>\n",
       "      <td>1764</td>\n",
       "      <td>@Nissan_India</td>\n",
       "      <td>1364</td>\n",
       "      <td>Auto</td>\n",
       "      <td>9235</td>\n",
       "      <td>Indonesian</td>\n",
       "      <td>532</td>\n",
       "      <td>TenNewsDotIn</td>\n",
       "      <td>143</td>\n",
       "      <td>Chennai</td>\n",
       "      <td>2571</td>\n",
       "    </tr>\n",
       "    <tr>\n",
       "      <th>2</th>\n",
       "      <td>#NissanPavilion</td>\n",
       "      <td>1714</td>\n",
       "      <td>@FordIndia</td>\n",
       "      <td>1007</td>\n",
       "      <td>2016</td>\n",
       "      <td>6334</td>\n",
       "      <td>Hindi</td>\n",
       "      <td>469</td>\n",
       "      <td>AutoExpo2016</td>\n",
       "      <td>126</td>\n",
       "      <td>Pacific Time (US &amp; Canada)</td>\n",
       "      <td>2266</td>\n",
       "    </tr>\n",
       "    <tr>\n",
       "      <th>3</th>\n",
       "      <td>#AETMS2016</td>\n",
       "      <td>1047</td>\n",
       "      <td>@honda2wheelerin</td>\n",
       "      <td>1001</td>\n",
       "      <td>India</td>\n",
       "      <td>1727</td>\n",
       "      <td>Tagalog</td>\n",
       "      <td>354</td>\n",
       "      <td>JBMAuto</td>\n",
       "      <td>99</td>\n",
       "      <td>Mumbai</td>\n",
       "      <td>1321</td>\n",
       "    </tr>\n",
       "    <tr>\n",
       "      <th>4</th>\n",
       "      <td>#ToyotaAtAutoExpo</td>\n",
       "      <td>889</td>\n",
       "      <td>@Toyota_India</td>\n",
       "      <td>880</td>\n",
       "      <td>new</td>\n",
       "      <td>1087</td>\n",
       "      <td>Spanish</td>\n",
       "      <td>235</td>\n",
       "      <td>Rajendra9Prasad</td>\n",
       "      <td>94</td>\n",
       "      <td>Hawaii</td>\n",
       "      <td>511</td>\n",
       "    </tr>\n",
       "  </tbody>\n",
       "</table>\n",
       "</div>"
      ],
      "text/plain": [
       "            Hashtags  Hashtag_count          Mentions  Mention_count  \\\n",
       "0      #AutoExpo2016           7190     @AutoExpo2016           5164   \n",
       "1           #AETMS16           1764     @Nissan_India           1364   \n",
       "2    #NissanPavilion           1714        @FordIndia           1007   \n",
       "3         #AETMS2016           1047  @honda2wheelerin           1001   \n",
       "4  #ToyotaAtAutoExpo            889     @Toyota_India            880   \n",
       "\n",
       "  TermsOnly  Term_count    Language  Language_count       ScreenName  \\\n",
       "0      Expo        9452     English           20937         JLRIndia   \n",
       "1      Auto        9235  Indonesian             532     TenNewsDotIn   \n",
       "2      2016        6334       Hindi             469     AutoExpo2016   \n",
       "3     India        1727     Tagalog             354          JBMAuto   \n",
       "4       new        1087     Spanish             235  Rajendra9Prasad   \n",
       "\n",
       "   screenname_count                      Places  places_count  \n",
       "0               317                   New Delhi          4687  \n",
       "1               143                     Chennai          2571  \n",
       "2               126  Pacific Time (US & Canada)          2266  \n",
       "3                99                      Mumbai          1321  \n",
       "4                94                      Hawaii           511  "
      ]
     },
     "execution_count": 6,
     "metadata": {},
     "output_type": "execute_result"
    }
   ],
   "source": [
    "freq_df.head()"
   ]
  },
  {
   "cell_type": "code",
   "execution_count": 7,
   "metadata": {
    "collapsed": false
   },
   "outputs": [
    {
     "data": {
      "text/html": [
       "<div>\n",
       "<table border=\"1\" class=\"dataframe\">\n",
       "  <thead>\n",
       "    <tr style=\"text-align: right;\">\n",
       "      <th></th>\n",
       "      <th>created_at</th>\n",
       "      <th>screen_name</th>\n",
       "      <th>text</th>\n",
       "      <th>target</th>\n",
       "    </tr>\n",
       "  </thead>\n",
       "  <tbody>\n",
       "    <tr>\n",
       "      <th>0</th>\n",
       "      <td>Fri Feb 05 13:00:05 +0000 2016</td>\n",
       "      <td>elango2105</td>\n",
       "      <td>RT @PressPlayTVapp: Get all action from @AutoE...</td>\n",
       "      <td>Advertisement</td>\n",
       "    </tr>\n",
       "    <tr>\n",
       "      <th>1</th>\n",
       "      <td>Fri Feb 05 13:00:13 +0000 2016</td>\n",
       "      <td>sujaykoner</td>\n",
       "      <td>Now GO-cross Concept has added a sense of fun ...</td>\n",
       "      <td>Technology</td>\n",
       "    </tr>\n",
       "    <tr>\n",
       "      <th>2</th>\n",
       "      <td>Fri Feb 05 13:00:17 +0000 2016</td>\n",
       "      <td>NexaExperience</td>\n",
       "      <td>RT @AutoExpo2016: It's raining celebrities at ...</td>\n",
       "      <td>Entertainment</td>\n",
       "    </tr>\n",
       "    <tr>\n",
       "      <th>3</th>\n",
       "      <td>Fri Feb 05 13:00:18 +0000 2016</td>\n",
       "      <td>TheQuint</td>\n",
       "      <td>The Honda BR-V at the #AutoExpo2016 , how does...</td>\n",
       "      <td>Automobile</td>\n",
       "    </tr>\n",
       "    <tr>\n",
       "      <th>4</th>\n",
       "      <td>Fri Feb 05 13:00:20 +0000 2016</td>\n",
       "      <td>diwamishra</td>\n",
       "      <td>RT @moneycontrolcom: BMW launches X5 xDrive30d...</td>\n",
       "      <td>Business</td>\n",
       "    </tr>\n",
       "  </tbody>\n",
       "</table>\n",
       "</div>"
      ],
      "text/plain": [
       "                       created_at     screen_name  \\\n",
       "0  Fri Feb 05 13:00:05 +0000 2016      elango2105   \n",
       "1  Fri Feb 05 13:00:13 +0000 2016      sujaykoner   \n",
       "2  Fri Feb 05 13:00:17 +0000 2016  NexaExperience   \n",
       "3  Fri Feb 05 13:00:18 +0000 2016        TheQuint   \n",
       "4  Fri Feb 05 13:00:20 +0000 2016      diwamishra   \n",
       "\n",
       "                                                text         target  \n",
       "0  RT @PressPlayTVapp: Get all action from @AutoE...  Advertisement  \n",
       "1  Now GO-cross Concept has added a sense of fun ...     Technology  \n",
       "2  RT @AutoExpo2016: It's raining celebrities at ...  Entertainment  \n",
       "3  The Honda BR-V at the #AutoExpo2016 , how does...     Automobile  \n",
       "4  RT @moneycontrolcom: BMW launches X5 xDrive30d...       Business  "
      ]
     },
     "execution_count": 7,
     "metadata": {},
     "output_type": "execute_result"
    }
   ],
   "source": [
    "tweet_df.head()"
   ]
  },
  {
   "cell_type": "markdown",
   "metadata": {},
   "source": [
    "# Text Preprocessing\n",
    "\n",
    "### 1. In this part collected tweets are preprocessed i.e Tokenizing the text."
   ]
  },
  {
   "cell_type": "code",
   "execution_count": 17,
   "metadata": {
    "collapsed": false
   },
   "outputs": [
    {
     "name": "stdout",
     "output_type": "stream",
     "text": [
      "Tweet after preprocessing : \n",
      "\n",
      "['RT', '@PressPlayTVapp', ':', 'Get', 'all', 'action', 'from', '@AutoExpo2016', 'on', '#PressPlay', '!', 'Download', 'the', 'App', 'Now', ':', '#automobile', '#AETMS16', 'ht', '…']\n"
     ]
    }
   ],
   "source": [
    "emoticons_str = r\"\"\"\n",
    "    (?:\n",
    "        [:=;] # Eyes\n",
    "        [oO\\-]? # Nose\n",
    "        [D\\)\\]\\(\\]/\\\\OpP] # Mouth\n",
    "    )\"\"\"\n",
    " \n",
    "regex_str = [\n",
    "    emoticons_str,\n",
    "    r'<[^>]+>', # HTML tags\n",
    "    r'(?:@[\\w_]+)', # @-mentions\n",
    "    r\"(?:\\#+[\\w_]+[\\w\\'_\\-]*[\\w_]+)\", # hash-tags\n",
    "    r'http[s]?://(?:[a-z]|[0-9]|[$-_@.&+]|[!*\\(\\),]|(?:%[0-9a-f][0-9a-f]))+', # URLs\n",
    "    r'[^\\x00-\\x7F]+',#unicode\n",
    "    r'(?:(?:\\d+,?)+(?:\\.?\\d+)?)', # numbers\n",
    "    r\"(?:[a-z][a-z'\\-_]+[a-z])\", # words with - and '\n",
    "    r'(?:[\\w_]+)', # other words\n",
    "    r'(?:\\S)' # anything else\n",
    "]\n",
    "\n",
    "    \n",
    "tokens_re = re.compile(r'('+'|'.join(regex_str)+')', re.VERBOSE | re.IGNORECASE)\n",
    "emoticon_re = re.compile(r'^'+emoticons_str+'$', re.VERBOSE | re.IGNORECASE)\n",
    " \n",
    "def tokenize(s):\n",
    "    mess =  re.sub(r'\\w+:\\/{2}[\\d\\w-]+(\\.[\\d\\w-]+)*(?:(?:\\/[^\\s/]*))*', '', s)\n",
    "    return tokens_re.findall(mess)\n",
    " \n",
    "def preprocess(s, lowercase=False):\n",
    "    tokens = tokenize(s)\n",
    "    if lowercase:\n",
    "        tokens = [token if emoticon_re.search(token) else token.lower() for token in tokens]\n",
    "    return tokens\n",
    "\n",
    "\n",
    " \n",
    "tweet = \"RT @PressPlayTVapp: Get all action from @AutoExpo2016  on #PressPlay! Download the App Now: https://t.co/WIEt5hbRZ5 #automobile #AETMS16 ht…\"\n",
    "\n",
    "print('Tweet after preprocessing : \\n')\n",
    "print(preprocess(tweet))\n"
   ]
  },
  {
   "cell_type": "markdown",
   "metadata": {},
   "source": [
    "### 2. Removing Stopwords , Hashtags and Mentions"
   ]
  },
  {
   "cell_type": "code",
   "execution_count": 27,
   "metadata": {
    "collapsed": false
   },
   "outputs": [],
   "source": [
    "import nltk\n",
    "from nltk.corpus import stopwords\n",
    "import string\n",
    "punctuation = ['!', '\"', '#', '$', '%', '&', \"'\", '(', ')', '*', '+', ',', '-', '.', '/', ':', ';', \n",
    "               '<', '=', '>', '?', '@', '[', '\\\\', ']', '^', '_', '`', '{', '|', '}', '~']\n",
    "\n",
    "stop = stopwords.words('english') #removing stopwords\n",
    "hashtags = [i for i in freq_df['Hashtags'] if i != None] #removing hashtags\n",
    "mentions = [i for i in freq_df['Mentions'] if i != None] #removing mentions\n",
    "#stop contains all the stopwords\n",
    "stop += punctuation + ['RT', 'via','#AETMS2016','#AutoExpo2016','amp','The','\\xa0','…','https','\\x85']\n",
    "#clean is list consisting stopwords along with hashtags and mentions\n",
    "clean = stop + hashtags + mentions"
   ]
  },
  {
   "cell_type": "code",
   "execution_count": 28,
   "metadata": {
    "collapsed": false
   },
   "outputs": [
    {
     "name": "stdout",
     "output_type": "stream",
     "text": [
      "Tweets before preprocessing : \n",
      "\n",
      "RT @bmwindia: The young generation loves them too! #FutureOfLuxury #AutoExpo2016 \n",
      "\n",
      "Tweets after preprocessing : \n",
      "\n",
      "young generation loves\n"
     ]
    }
   ],
   "source": [
    "#preprocess function\n",
    "def text_preprocess(message): \n",
    "    return [term for term in preprocess(str(message)) if term not in clean]\n",
    "\n",
    "tweet = \"RT @bmwindia: The young generation loves them too! #FutureOfLuxury #AutoExpo2016 \"\n",
    "after_stop = [term for term in text_preprocess(tweet) if term not in clean]\n",
    "print('Tweets before preprocessing : \\n')\n",
    "print(tweet)\n",
    "print('\\nTweets after preprocessing : \\n')\n",
    "print(' '.join(after_stop))\n"
   ]
  },
  {
   "cell_type": "markdown",
   "metadata": {
    "collapsed": false
   },
   "source": [
    "## Term Frequency\n",
    "\n",
    "### Calculating frequency of Hastags,Mentions,Terms used and Language"
   ]
  },
  {
   "cell_type": "code",
   "execution_count": 20,
   "metadata": {
    "collapsed": false
   },
   "outputs": [],
   "source": [
    "fname = 'tweets.json' # Loading tweets file\n",
    "with open(fname, 'r') as f:\n",
    "    hashtag = Counter()\n",
    "    mention = Counter()\n",
    "    termOnly = Counter()\n",
    "    count_all = Counter()\n",
    "    lang = []\n",
    "    scrname = []\n",
    "    places = []\n",
    "    \n",
    "    for line in f:\n",
    "        try:\n",
    "            #Loading tweet from tweets files\n",
    "            tweet = json.loads(line)\n",
    "            \n",
    "            # creating list for all terms used, hashtags , terms other than hashtags and mentions , mentions , languages used\n",
    "            # and screen names\n",
    "            terms_stop = [term for term in preprocess(tweet['text']) if term not in stop]\n",
    "            \n",
    "            terms_hash = [term for term in preprocess(tweet['text']) if term.startswith('#') and term != '#']\n",
    "            \n",
    "            terms_only = [term for term in preprocess(tweet['text']) if term not in stop and not term.startswith(('#', '@'))] \n",
    "            \n",
    "            terms_mention = [term for term in preprocess(tweet['text']) if term.startswith('@') and term != '@']\n",
    "            \n",
    "            if tweet['user']['time_zone'] != None:\n",
    "                places.append(tweet['user']['time_zone'])\n",
    "                \n",
    "            if tweet['lang'] != 'und':\n",
    "                lang.append(tweet['lang'])\n",
    "                \n",
    "            if tweet['user']['screen_name']:\n",
    "                scrname.append(tweet['user']['screen_name'])\n",
    "                \n",
    "            \n",
    "            #simultaneous update of the count for each tweet fetched from the tweets file\n",
    "            \n",
    "            screen_name_count = Counter(scrname)\n",
    "            \n",
    "            lang_count = Counter(lang)\n",
    "            \n",
    "            places_count = Counter(places)\n",
    "\n",
    "            count_all.update(terms_stop)\n",
    "            \n",
    "            hashtag.update(terms_hash)\n",
    "            \n",
    "            mention.update(terms_mention)\n",
    "            \n",
    "            termOnly.update(terms_only)\n",
    "            \n",
    "            \n",
    "        except ValueError:\n",
    "            continue\n",
    "\n",
    "\n",
    "# Creating dataframe each of the terms calculated above\n",
    "\n",
    "hashtag_df = DataFrame(hashtag.most_common())\n",
    "hashtag_df.columns = ['Hashtags','Hashtag_count']\n",
    "\n",
    "mention_df = DataFrame(mention.most_common())\n",
    "mention_df.columns = ['Mentions','Mention_count']\n",
    "\n",
    "termOnly_df = DataFrame(termOnly.most_common())\n",
    "termOnly_df.columns = ['TermsOnly','Term_count']\n",
    "\n",
    "lang_df = DataFrame(lang_count.most_common())\n",
    "lang_df.columns = ['Language','Language_count']\n",
    "\n",
    "screen_name_df = DataFrame(screen_name_count.most_common())\n",
    "screen_name_df.columns = ['ScreenName','Count']\n",
    "\n",
    "places_df = DataFrame(places_count.most_common())\n",
    "places_df.columns = ['Places','Count']\n"
   ]
  },
  {
   "cell_type": "markdown",
   "metadata": {},
   "source": [
    "### Dataframes Samples"
   ]
  },
  {
   "cell_type": "code",
   "execution_count": 21,
   "metadata": {
    "collapsed": false
   },
   "outputs": [
    {
     "data": {
      "text/html": [
       "<div>\n",
       "<table border=\"1\" class=\"dataframe\">\n",
       "  <thead>\n",
       "    <tr style=\"text-align: right;\">\n",
       "      <th></th>\n",
       "      <th>Hashtags</th>\n",
       "      <th>Hashtag_count</th>\n",
       "    </tr>\n",
       "  </thead>\n",
       "  <tbody>\n",
       "    <tr>\n",
       "      <th>0</th>\n",
       "      <td>#AutoExpo2016</td>\n",
       "      <td>7190</td>\n",
       "    </tr>\n",
       "    <tr>\n",
       "      <th>1</th>\n",
       "      <td>#AETMS16</td>\n",
       "      <td>1764</td>\n",
       "    </tr>\n",
       "    <tr>\n",
       "      <th>2</th>\n",
       "      <td>#NissanPavilion</td>\n",
       "      <td>1714</td>\n",
       "    </tr>\n",
       "    <tr>\n",
       "      <th>3</th>\n",
       "      <td>#AETMS2016</td>\n",
       "      <td>1047</td>\n",
       "    </tr>\n",
       "    <tr>\n",
       "      <th>4</th>\n",
       "      <td>#ToyotaAtAutoExpo</td>\n",
       "      <td>889</td>\n",
       "    </tr>\n",
       "  </tbody>\n",
       "</table>\n",
       "</div>"
      ],
      "text/plain": [
       "            Hashtags  Hashtag_count\n",
       "0      #AutoExpo2016           7190\n",
       "1           #AETMS16           1764\n",
       "2    #NissanPavilion           1714\n",
       "3         #AETMS2016           1047\n",
       "4  #ToyotaAtAutoExpo            889"
      ]
     },
     "execution_count": 21,
     "metadata": {},
     "output_type": "execute_result"
    }
   ],
   "source": [
    "hashtag_df.head()"
   ]
  },
  {
   "cell_type": "code",
   "execution_count": 22,
   "metadata": {
    "collapsed": false
   },
   "outputs": [
    {
     "data": {
      "text/html": [
       "<div>\n",
       "<table border=\"1\" class=\"dataframe\">\n",
       "  <thead>\n",
       "    <tr style=\"text-align: right;\">\n",
       "      <th></th>\n",
       "      <th>Mentions</th>\n",
       "      <th>Mention_count</th>\n",
       "    </tr>\n",
       "  </thead>\n",
       "  <tbody>\n",
       "    <tr>\n",
       "      <th>0</th>\n",
       "      <td>@AutoExpo2016</td>\n",
       "      <td>5164</td>\n",
       "    </tr>\n",
       "    <tr>\n",
       "      <th>1</th>\n",
       "      <td>@Nissan_India</td>\n",
       "      <td>1364</td>\n",
       "    </tr>\n",
       "    <tr>\n",
       "      <th>2</th>\n",
       "      <td>@FordIndia</td>\n",
       "      <td>1007</td>\n",
       "    </tr>\n",
       "    <tr>\n",
       "      <th>3</th>\n",
       "      <td>@honda2wheelerin</td>\n",
       "      <td>1001</td>\n",
       "    </tr>\n",
       "    <tr>\n",
       "      <th>4</th>\n",
       "      <td>@Toyota_India</td>\n",
       "      <td>880</td>\n",
       "    </tr>\n",
       "  </tbody>\n",
       "</table>\n",
       "</div>"
      ],
      "text/plain": [
       "           Mentions  Mention_count\n",
       "0     @AutoExpo2016           5164\n",
       "1     @Nissan_India           1364\n",
       "2        @FordIndia           1007\n",
       "3  @honda2wheelerin           1001\n",
       "4     @Toyota_India            880"
      ]
     },
     "execution_count": 22,
     "metadata": {},
     "output_type": "execute_result"
    }
   ],
   "source": [
    "mention_df.head()"
   ]
  },
  {
   "cell_type": "code",
   "execution_count": 23,
   "metadata": {
    "collapsed": false
   },
   "outputs": [
    {
     "data": {
      "text/html": [
       "<div>\n",
       "<table border=\"1\" class=\"dataframe\">\n",
       "  <thead>\n",
       "    <tr style=\"text-align: right;\">\n",
       "      <th></th>\n",
       "      <th>TermsOnly</th>\n",
       "      <th>Term_count</th>\n",
       "    </tr>\n",
       "  </thead>\n",
       "  <tbody>\n",
       "    <tr>\n",
       "      <th>0</th>\n",
       "      <td>Expo</td>\n",
       "      <td>9452</td>\n",
       "    </tr>\n",
       "    <tr>\n",
       "      <th>1</th>\n",
       "      <td>Auto</td>\n",
       "      <td>9235</td>\n",
       "    </tr>\n",
       "    <tr>\n",
       "      <th>2</th>\n",
       "      <td>2016</td>\n",
       "      <td>6334</td>\n",
       "    </tr>\n",
       "    <tr>\n",
       "      <th>3</th>\n",
       "      <td>India</td>\n",
       "      <td>1727</td>\n",
       "    </tr>\n",
       "    <tr>\n",
       "      <th>4</th>\n",
       "      <td>new</td>\n",
       "      <td>1087</td>\n",
       "    </tr>\n",
       "  </tbody>\n",
       "</table>\n",
       "</div>"
      ],
      "text/plain": [
       "  TermsOnly  Term_count\n",
       "0      Expo        9452\n",
       "1      Auto        9235\n",
       "2      2016        6334\n",
       "3     India        1727\n",
       "4       new        1087"
      ]
     },
     "execution_count": 23,
     "metadata": {},
     "output_type": "execute_result"
    }
   ],
   "source": [
    "termOnly_df.head()"
   ]
  },
  {
   "cell_type": "code",
   "execution_count": 24,
   "metadata": {
    "collapsed": false
   },
   "outputs": [
    {
     "data": {
      "text/html": [
       "<div>\n",
       "<table border=\"1\" class=\"dataframe\">\n",
       "  <thead>\n",
       "    <tr style=\"text-align: right;\">\n",
       "      <th></th>\n",
       "      <th>Language</th>\n",
       "      <th>Language_count</th>\n",
       "    </tr>\n",
       "  </thead>\n",
       "  <tbody>\n",
       "    <tr>\n",
       "      <th>0</th>\n",
       "      <td>English</td>\n",
       "      <td>20937</td>\n",
       "    </tr>\n",
       "    <tr>\n",
       "      <th>1</th>\n",
       "      <td>Indonesian</td>\n",
       "      <td>532</td>\n",
       "    </tr>\n",
       "    <tr>\n",
       "      <th>2</th>\n",
       "      <td>Hindi</td>\n",
       "      <td>469</td>\n",
       "    </tr>\n",
       "    <tr>\n",
       "      <th>3</th>\n",
       "      <td>Tagalog</td>\n",
       "      <td>354</td>\n",
       "    </tr>\n",
       "    <tr>\n",
       "      <th>4</th>\n",
       "      <td>Spanish</td>\n",
       "      <td>235</td>\n",
       "    </tr>\n",
       "  </tbody>\n",
       "</table>\n",
       "</div>"
      ],
      "text/plain": [
       "     Language  Language_count\n",
       "0     English           20937\n",
       "1  Indonesian             532\n",
       "2       Hindi             469\n",
       "3     Tagalog             354\n",
       "4     Spanish             235"
      ]
     },
     "execution_count": 24,
     "metadata": {},
     "output_type": "execute_result"
    }
   ],
   "source": [
    "#mapping fullnames of languages to their keys\n",
    "\n",
    "lang_map  ={'ar':'Arabic','bg':'Bulgarian','bn':'Bengali','cs':'czech','cy':'Welsh','da':'Danish','de':'German','el':'Greek',\n",
    "            'en':'English','es':'Spanish','et':'Estonian','fi':'Finish','fr':'French','gu':'Gujrati','hi':'Hindi','ht':'Haitian Creole',\n",
    "           'in':'Indonesian','is':'icelandic','it':'Italian','ja':'Japenese','kn':'Kannada','lt': 'Lithuanian','lv': 'Latvian',\n",
    "            'ml': 'Malayalam','mr': 'Marathi','ne': 'Nepali','nl': 'Dutch','no': 'Norwegian','pa': 'Punjabi','pl': 'Polish',\n",
    "            'pt': 'Portuguese','ro': 'Romanian','ru': 'Russian','si': 'Sinhalese','sl': 'Slovenian','sv': 'Swedish','ta': 'Tamil',\n",
    "            'te': 'Telugu','tl': 'Tagalog','tr': 'Turkish'}\n",
    "lang_df['Language'] = lang_df['Language'].map(lang_map)\n",
    "lang_df.head()"
   ]
  },
  {
   "cell_type": "code",
   "execution_count": 25,
   "metadata": {
    "collapsed": false
   },
   "outputs": [
    {
     "data": {
      "text/html": [
       "<div>\n",
       "<table border=\"1\" class=\"dataframe\">\n",
       "  <thead>\n",
       "    <tr style=\"text-align: right;\">\n",
       "      <th></th>\n",
       "      <th>ScreenName</th>\n",
       "      <th>Count</th>\n",
       "    </tr>\n",
       "  </thead>\n",
       "  <tbody>\n",
       "    <tr>\n",
       "      <th>0</th>\n",
       "      <td>JLRIndia</td>\n",
       "      <td>317</td>\n",
       "    </tr>\n",
       "    <tr>\n",
       "      <th>1</th>\n",
       "      <td>TenNewsDotIn</td>\n",
       "      <td>143</td>\n",
       "    </tr>\n",
       "    <tr>\n",
       "      <th>2</th>\n",
       "      <td>AutoExpo2016</td>\n",
       "      <td>126</td>\n",
       "    </tr>\n",
       "    <tr>\n",
       "      <th>3</th>\n",
       "      <td>JBMAuto</td>\n",
       "      <td>99</td>\n",
       "    </tr>\n",
       "    <tr>\n",
       "      <th>4</th>\n",
       "      <td>Rajendra9Prasad</td>\n",
       "      <td>94</td>\n",
       "    </tr>\n",
       "  </tbody>\n",
       "</table>\n",
       "</div>"
      ],
      "text/plain": [
       "        ScreenName  Count\n",
       "0         JLRIndia    317\n",
       "1     TenNewsDotIn    143\n",
       "2     AutoExpo2016    126\n",
       "3          JBMAuto     99\n",
       "4  Rajendra9Prasad     94"
      ]
     },
     "execution_count": 25,
     "metadata": {},
     "output_type": "execute_result"
    }
   ],
   "source": [
    "screen_name_df.head()"
   ]
  },
  {
   "cell_type": "code",
   "execution_count": 26,
   "metadata": {
    "collapsed": false
   },
   "outputs": [
    {
     "data": {
      "text/html": [
       "<div>\n",
       "<table border=\"1\" class=\"dataframe\">\n",
       "  <thead>\n",
       "    <tr style=\"text-align: right;\">\n",
       "      <th></th>\n",
       "      <th>Places</th>\n",
       "      <th>Count</th>\n",
       "    </tr>\n",
       "  </thead>\n",
       "  <tbody>\n",
       "    <tr>\n",
       "      <th>0</th>\n",
       "      <td>New Delhi</td>\n",
       "      <td>4687</td>\n",
       "    </tr>\n",
       "    <tr>\n",
       "      <th>1</th>\n",
       "      <td>Chennai</td>\n",
       "      <td>2571</td>\n",
       "    </tr>\n",
       "    <tr>\n",
       "      <th>2</th>\n",
       "      <td>Pacific Time (US &amp; Canada)</td>\n",
       "      <td>2266</td>\n",
       "    </tr>\n",
       "    <tr>\n",
       "      <th>3</th>\n",
       "      <td>Mumbai</td>\n",
       "      <td>1321</td>\n",
       "    </tr>\n",
       "    <tr>\n",
       "      <th>4</th>\n",
       "      <td>Hawaii</td>\n",
       "      <td>511</td>\n",
       "    </tr>\n",
       "  </tbody>\n",
       "</table>\n",
       "</div>"
      ],
      "text/plain": [
       "                       Places  Count\n",
       "0                   New Delhi   4687\n",
       "1                     Chennai   2571\n",
       "2  Pacific Time (US & Canada)   2266\n",
       "3                      Mumbai   1321\n",
       "4                      Hawaii    511"
      ]
     },
     "execution_count": 26,
     "metadata": {},
     "output_type": "execute_result"
    }
   ],
   "source": [
    "places_df.head()"
   ]
  },
  {
   "cell_type": "code",
   "execution_count": 71,
   "metadata": {
    "collapsed": false
   },
   "outputs": [],
   "source": [
    "#Concatenating each dataframe into single frequency dataframe and saving it in CSV format\n",
    "#freq_df = pd.concat([hashtag_df,mention_df,termOnly_df,lang_df,screen_name_df,places_df],axis=1)\n",
    "#freq_df.head()\n",
    "#freq_df.to_csv('frequency_dataset.csv')\n"
   ]
  },
  {
   "cell_type": "markdown",
   "metadata": {
    "collapsed": false
   },
   "source": [
    "# Insights"
   ]
  },
  {
   "cell_type": "markdown",
   "metadata": {},
   "source": [
    "### Top 10 Popular Langauges"
   ]
  },
  {
   "cell_type": "code",
   "execution_count": 29,
   "metadata": {
    "collapsed": false
   },
   "outputs": [
    {
     "data": {
      "text/plain": [
       "<seaborn.axisgrid.FacetGrid at 0x136eee30ba8>"
      ]
     },
     "execution_count": 29,
     "metadata": {},
     "output_type": "execute_result"
    },
    {
     "data": {
      "image/png": "[encoded data removed]",
      "text/plain": [
       "<matplotlib.figure.Figure at 0x136eee30da0>"
      ]
     },
     "metadata": {},
     "output_type": "display_data"
    }
   ],
   "source": [
    "sns.factorplot(x='Language',y='Language_count',data=freq_df[:10],kind='bar',legend=True,orient=\"v\",aspect=3,palette='Blues_d')"
   ]
  },
  {
   "cell_type": "markdown",
   "metadata": {},
   "source": [
    "### Top 10 Popular hashtags"
   ]
  },
  {
   "cell_type": "code",
   "execution_count": 30,
   "metadata": {
    "collapsed": false
   },
   "outputs": [
    {
     "data": {
      "text/plain": [
       "<seaborn.axisgrid.FacetGrid at 0x136ef4c02b0>"
      ]
     },
     "execution_count": 30,
     "metadata": {},
     "output_type": "execute_result"
    },
    {
     "data": {
      "image/png": "[encoded data removed]",
      "text/plain": [
       "<matplotlib.figure.Figure at 0x136ef4018d0>"
      ]
     },
     "metadata": {},
     "output_type": "display_data"
    }
   ],
   "source": [
    "sns.factorplot(x='Hashtag_count',y='Hashtags',data=freq_df[1:11],kind='bar',legend=True,orient=\"h\",size=5,aspect=2,palette='Blues_d')"
   ]
  },
  {
   "cell_type": "markdown",
   "metadata": {},
   "source": [
    "### Top 10 Popular Mentions"
   ]
  },
  {
   "cell_type": "code",
   "execution_count": 31,
   "metadata": {
    "collapsed": false
   },
   "outputs": [
    {
     "data": {
      "text/plain": [
       "<seaborn.axisgrid.FacetGrid at 0x136ef4c02e8>"
      ]
     },
     "execution_count": 31,
     "metadata": {},
     "output_type": "execute_result"
    },
    {
     "data": {
      "image/png": "[encoded data removed]",
      "text/plain": [
       "<matplotlib.figure.Figure at 0x136ef5772b0>"
      ]
     },
     "metadata": {},
     "output_type": "display_data"
    }
   ],
   "source": [
    "sns.factorplot(x='Mention_count',y='Mentions',data=freq_df[1:11],kind='bar',legend=True,orient=\"h\",size=5,aspect=2,palette='Blues_d')"
   ]
  },
  {
   "cell_type": "markdown",
   "metadata": {},
   "source": [
    "### Top 10 Popular Terms other than hastags and mentions"
   ]
  },
  {
   "cell_type": "code",
   "execution_count": 32,
   "metadata": {
    "collapsed": false
   },
   "outputs": [
    {
     "data": {
      "text/plain": [
       "<seaborn.axisgrid.FacetGrid at 0x136ef61efd0>"
      ]
     },
     "execution_count": 32,
     "metadata": {},
     "output_type": "execute_result"
    },
    {
     "data": {
      "image/png": "[encoded data removed]",
      "text/plain": [
       "<matplotlib.figure.Figure at 0x136ef961240>"
      ]
     },
     "metadata": {},
     "output_type": "display_data"
    }
   ],
   "source": [
    "sns.factorplot(x='Term_count',y='TermsOnly',data=freq_df[:10],kind='bar',legend=True,orient=\"h\",size=5,aspect=2,palette='Blues_d')"
   ]
  },
  {
   "cell_type": "markdown",
   "metadata": {},
   "source": [
    "### Top 10 Users\n",
    "### User who tweeted most regarding Auto Expo 2016"
   ]
  },
  {
   "cell_type": "code",
   "execution_count": 35,
   "metadata": {
    "collapsed": false
   },
   "outputs": [
    {
     "data": {
      "text/plain": [
       "<seaborn.axisgrid.FacetGrid at 0x136efa1e160>"
      ]
     },
     "execution_count": 35,
     "metadata": {},
     "output_type": "execute_result"
    },
    {
     "data": {
      "image/png": "[encoded data removed]",
      "text/plain": [
       "<matplotlib.figure.Figure at 0x136efb5ad68>"
      ]
     },
     "metadata": {},
     "output_type": "display_data"
    }
   ],
   "source": [
    "sns.factorplot(x='ScreenName',y='screenname_count',data=freq_df[:10],kind='bar',legend=True,orient=\"v\",aspect=3,palette='Blues_d')"
   ]
  },
  {
   "cell_type": "markdown",
   "metadata": {},
   "source": [
    "## Top Places from where Tweets Generated"
   ]
  },
  {
   "cell_type": "code",
   "execution_count": 36,
   "metadata": {
    "collapsed": false
   },
   "outputs": [
    {
     "data": {
      "text/plain": [
       "<seaborn.axisgrid.FacetGrid at 0x136efa5ae48>"
      ]
     },
     "execution_count": 36,
     "metadata": {},
     "output_type": "execute_result"
    },
    {
     "data": {
      "image/png": "[encoded data removed]",
      "text/plain": [
       "<matplotlib.figure.Figure at 0x136efa10710>"
      ]
     },
     "metadata": {},
     "output_type": "display_data"
    }
   ],
   "source": [
    "sns.factorplot(x='Places',y='places_count',data=freq_df[:10],kind='bar',legend=True,orient=\"v\",aspect=4,palette='Blues_d')"
   ]
  },
  {
   "cell_type": "markdown",
   "metadata": {
    "collapsed": false
   },
   "source": [
    "# TimeSeries\n",
    "\n",
    "### Includes the total number of tweets generated between (6th Feb to 8th Feb) in span of every 5 minutes"
   ]
  },
  {
   "cell_type": "code",
   "execution_count": 37,
   "metadata": {
    "collapsed": true
   },
   "outputs": [],
   "source": [
    "dates_autoexpo = []\n",
    "f = open('tweets.json', 'r',encoding='utf-8')\n",
    "for line in f:\n",
    "    try:\n",
    "        tweet = json.loads(line)\n",
    "        dates_autoexpo.append(tweet['created_at'])\n",
    "    except ValueError:\n",
    "        continue\n",
    "ones = [1]*len(dates_autoexpo)\n",
    "idx = pd.DatetimeIndex(dates_autoexpo)\n",
    "dates = Series(ones,index=idx)\n",
    "per_minute = dates.resample('5Min', how='sum').fillna(0)\n",
    "timeseries_df = DataFrame(per_minute)\n",
    "timeseries_df.columns = ['total_freq']"
   ]
  },
  {
   "cell_type": "code",
   "execution_count": 38,
   "metadata": {
    "collapsed": false
   },
   "outputs": [],
   "source": [
    "#List of comapaies for tweet count\n",
    "dates_ford = []\n",
    "dates_nissan = []\n",
    "dates_datsun = []\n",
    "dates_maruti = []\n",
    "dates_toyota = []\n",
    "dates_jaguar = []\n",
    "dates_tata = []\n",
    "dates_bmw = []\n",
    "dates_honda = []\n",
    "\n",
    "#opening Tweets file\n",
    "f = open('tweets.json','r')\n",
    "for line in f:\n",
    "    try:\n",
    "        tweet = json.loads(line)\n",
    "        terms = [term for term in preprocess(tweet['text'])]\n",
    "        \n",
    "        #appending dates for respective company name\n",
    "        for s in terms:\n",
    "            if re.search('ford',s.lower()):\n",
    "                dates_ford.append(tweet['created_at'])\n",
    "            if re.search('nissan',s.lower()):\n",
    "                dates_nissan.append(tweet['created_at'])\n",
    "            if re.search('datsun',s.lower()):\n",
    "                dates_datsun.append(tweet['created_at'])\n",
    "            if re.search('toyota',s.lower()):\n",
    "                dates_toyota.append(tweet['created_at'])\n",
    "            if re.search('maruti',s.lower()):\n",
    "                dates_maruti.append(tweet['created_at'])\n",
    "            if re.search('jaguar',s.lower()):\n",
    "                dates_jaguar.append(tweet['created_at'])\n",
    "            if re.search('bmw',s.lower()):\n",
    "                dates_bmw.append(tweet['created_at'])\n",
    "            if re.search('tata',s.lower()):\n",
    "                dates_tata.append(tweet['created_at'])\n",
    "            if re.search('honda',s.lower()):\n",
    "                dates_honda.append(tweet['created_at'])\n",
    "    except ValueError:\n",
    "        continue\n",
    "        \n",
    "# a list of \"1\" to count the terms\n",
    "ones_ford = [1]*len(dates_ford)\n",
    "ones_nissan = [1]*len(dates_nissan)\n",
    "ones_datsun = [1]*len(dates_datsun)\n",
    "ones_toyota = [1]*len(dates_toyota)\n",
    "ones_maruti = [1]*len(dates_maruti)\n",
    "ones_jaguar = [1]*len(dates_jaguar)\n",
    "ones_bmw = [1]*len(dates_bmw)\n",
    "ones_tata = [1]*len(dates_tata)\n",
    "ones_honda = [1]*len(dates_honda)\n",
    "\n",
    "\n",
    "# setting date as index using DateTimeIndex\n",
    "idx_ford = pd.DatetimeIndex(dates_ford)\n",
    "idx_nissan = pd.DatetimeIndex(dates_nissan)\n",
    "idx_datsun = pd.DatetimeIndex(dates_datsun)\n",
    "idx_toyota = pd.DatetimeIndex(dates_toyota)\n",
    "idx_maruti = pd.DatetimeIndex(dates_maruti)\n",
    "idx_jaguar = pd.DatetimeIndex(dates_jaguar)\n",
    "idx_bmw = pd.DatetimeIndex(dates_bmw)\n",
    "idx_tata = pd.DatetimeIndex(dates_tata)\n",
    "idx_honda = pd.DatetimeIndex(dates_honda)\n",
    "\n",
    "\n",
    "# creating series for each maintained list\n",
    "ford = Series(ones_ford, index=idx_ford)\n",
    "nissan = Series(ones_nissan,index=idx_nissan)\n",
    "datsun = Series(ones_datsun,index=idx_datsun)\n",
    "toyota = Series(ones_toyota,index=idx_toyota)\n",
    "maruti = Series(ones_maruti,index=idx_maruti)\n",
    "jaguar = Series(ones_jaguar,index=idx_jaguar)\n",
    "bmw = Series(ones_bmw,index=idx_bmw)\n",
    "tata = Series(ones_tata,index=idx_tata)\n",
    "honda = Series(ones_honda,index=idx_honda)\n",
    "\n",
    "# Resampling Dates in 5minute bucket\n",
    "per_minute_fo = ford.resample('5Min', how='sum').fillna(0)\n",
    "per_minute_ni = nissan.resample('5Min', how='sum').fillna(0)\n",
    "per_minute_da = datsun.resample('5Min', how='sum').fillna(0)\n",
    "per_minute_to = toyota.resample('5Min', how='sum').fillna(0)\n",
    "per_minute_ma = maruti.resample('5Min', how='sum').fillna(0)\n",
    "per_minute_ja = jaguar.resample('5Min', how='sum').fillna(0)\n",
    "per_minute_bm = bmw.resample('5Min', how='sum').fillna(0)\n",
    "per_minute_ta = tata.resample('5Min', how='sum').fillna(0)\n",
    "per_minute_ho = honda.resample('5Min', how='sum').fillna(0)\n",
    "\n",
    "#dictionary for company wise collection of dates and thier respective counts\n",
    "match_data = dict(FORD=per_minute_fo, NISSAN=per_minute_ni, DATSUN=per_minute_da,TOYOTA=per_minute_to,MARUTI=per_minute_ma,\n",
    "                 JAGUAR=per_minute_ja,BMW=per_minute_bm,TATA=per_minute_ta,HONDA=per_minute_ho)\n",
    "\n",
    "# dataframe of the above dictionary\n",
    "all_matches = DataFrame(data=match_data,index=per_minute_fo.index)\n",
    "\n",
    "# Resampling as above\n",
    "all_matches = all_matches.resample('5Min', how='sum').fillna(0)\n",
    "\n",
    "#timeseries_dataset = pd.concat([timeseries_df,all_matches],axis=1)"
   ]
  },
  {
   "cell_type": "markdown",
   "metadata": {},
   "source": [
    "### 1. Timeseries for total tweets generated"
   ]
  },
  {
   "cell_type": "code",
   "execution_count": 45,
   "metadata": {
    "collapsed": false
   },
   "outputs": [
    {
     "data": {
      "image/png": "[encoded data removed]",
      "text/plain": [
       "<matplotlib.figure.Figure at 0x136f0dec2e8>"
      ]
     },
     "metadata": {},
     "output_type": "display_data"
    }
   ],
   "source": [
    "fig = timeseries_df.plot(timeseries_df.Time,'total_freq',figsize=(20,8),marker='o',linestyle='-',color='blue',title='TWEETS TIMESERIES')"
   ]
  },
  {
   "cell_type": "markdown",
   "metadata": {},
   "source": [
    "### 2. Timeseries comparisonn between NISSAN,FORD and HONDA"
   ]
  },
  {
   "cell_type": "code",
   "execution_count": 46,
   "metadata": {
    "collapsed": false
   },
   "outputs": [
    {
     "data": {
      "text/plain": [
       "<matplotlib.axes._subplots.AxesSubplot at 0x136f134eef0>"
      ]
     },
     "execution_count": 46,
     "metadata": {},
     "output_type": "execute_result"
    },
    {
     "data": {
      "image/png": "[encoded data removed]",
      "text/plain": [
       "<matplotlib.figure.Figure at 0x136efab9710>"
      ]
     },
     "metadata": {},
     "output_type": "display_data"
    }
   ],
   "source": [
    "timeseries_df.plot(x=timeseries_df.Time,y=['NISSAN','FORD','HONDA'],marker='o',linestyle='-',figsize=(20,8),\n",
    "                        title='NISSAN v/s FORD v/s HONDA')"
   ]
  },
  {
   "cell_type": "markdown",
   "metadata": {},
   "source": [
    "### 2. Timeseries comparison for BMW,TOYOTA and DATSUN"
   ]
  },
  {
   "cell_type": "code",
   "execution_count": 47,
   "metadata": {
    "collapsed": false
   },
   "outputs": [
    {
     "data": {
      "text/plain": [
       "<matplotlib.axes._subplots.AxesSubplot at 0x136f1774fd0>"
      ]
     },
     "execution_count": 47,
     "metadata": {},
     "output_type": "execute_result"
    },
    {
     "data": {
      "image/png": "[encoded data removed]",
      "text/plain": [
       "<matplotlib.figure.Figure at 0x136f15d7ac8>"
      ]
     },
     "metadata": {},
     "output_type": "display_data"
    }
   ],
   "source": [
    "timeseries_df.plot(x=timeseries_df.Time,y=['BMW','TOYOTA','DATSUN'],marker='o',linestyle='-',figsize=(20,8))"
   ]
  },
  {
   "cell_type": "markdown",
   "metadata": {
    "collapsed": false
   },
   "source": [
    "# Multiclass Classification"
   ]
  },
  {
   "cell_type": "code",
   "execution_count": 49,
   "metadata": {
    "collapsed": false
   },
   "outputs": [],
   "source": [
    "#saving firts 5000 tweets in sample_df\n",
    "sample_df = tweet_df[:5000]"
   ]
  },
  {
   "cell_type": "code",
   "execution_count": 50,
   "metadata": {
    "collapsed": false
   },
   "outputs": [
    {
     "name": "stdout",
     "output_type": "stream",
     "text": [
      "Number of words : 4187\n"
     ]
    }
   ],
   "source": [
    "from sklearn.feature_extraction.text import CountVectorizer\n",
    "\n",
    "#creating the Bag of Words\n",
    "bow_transformer = CountVectorizer(analyzer=text_preprocess).fit(sample_df['text'])\n",
    "print('Number of words : ' + str(len(bow_transformer.vocabulary_)))"
   ]
  },
  {
   "cell_type": "code",
   "execution_count": 53,
   "metadata": {
    "collapsed": false
   },
   "outputs": [
    {
     "name": "stdout",
     "output_type": "stream",
     "text": [
      "Shape of Sparse Matrix:  (5000, 4187)\n"
     ]
    }
   ],
   "source": [
    "#creating a vector space i.e a sparse matrix of dimension number of tweets X number of words\n",
    "tweet_bow = bow_transformer.transform(sample_df['text'])\n",
    "print('Shape of Sparse Matrix: ', tweet_bow.shape)"
   ]
  },
  {
   "cell_type": "code",
   "execution_count": 56,
   "metadata": {
    "collapsed": false
   },
   "outputs": [],
   "source": [
    "# calculating the Tf-Idf Score of bag of words\n",
    "from sklearn.feature_extraction.text import TfidfTransformer\n",
    "\n",
    "tfidf_transformer = TfidfTransformer().fit(tweet_bow)\n",
    "tweet_tfidf = tfidf_transformer.transform(tweet_bow)"
   ]
  },
  {
   "cell_type": "code",
   "execution_count": 57,
   "metadata": {
    "collapsed": false
   },
   "outputs": [
    {
     "name": "stdout",
     "output_type": "stream",
     "text": [
      "6.52166089786\n",
      "5.66724556971\n"
     ]
    }
   ],
   "source": [
    "#printing tf-idf score for a random words used\n",
    "print(tfidf_transformer.idf_[bow_transformer.vocabulary_['Racing']])\n",
    "print(tfidf_transformer.idf_[bow_transformer.vocabulary_['Maruti']])"
   ]
  },
  {
   "cell_type": "code",
   "execution_count": 58,
   "metadata": {
    "collapsed": false
   },
   "outputs": [],
   "source": [
    "#fitting a model on naive bayes multinominal\n",
    "from sklearn.naive_bayes import MultinomialNB\n",
    "auto_expo_model = MultinomialNB().fit(tweet_tfidf, sample_df['target'])"
   ]
  },
  {
   "cell_type": "code",
   "execution_count": 59,
   "metadata": {
    "collapsed": false
   },
   "outputs": [
    {
     "name": "stdout",
     "output_type": "stream",
     "text": [
      "Dream like big and Say YES to @DatsunIndia. Visit the #DatsunPavilion in #AutoExpo2016. \n"
     ]
    }
   ],
   "source": [
    "#taking a tweets from sample_df dataframe for predictio\n",
    "sample_tweet = sample_df['text'][30]\n",
    "print(sample_tweet)"
   ]
  },
  {
   "cell_type": "code",
   "execution_count": 60,
   "metadata": {
    "collapsed": false
   },
   "outputs": [
    {
     "name": "stdout",
     "output_type": "stream",
     "text": [
      "  (0, 565)\t1\n",
      "  (0, 1539)\t1\n",
      "  (0, 1854)\t1\n",
      "  (0, 1934)\t1\n",
      "  (0, 2170)\t1\n",
      "  (0, 3062)\t1\n",
      "(1, 4187)\n"
     ]
    }
   ],
   "source": [
    "#creating bag of words for sample tweet\n",
    "bow_sample = bow_transformer.transform([sample_tweet])\n",
    "print(bow_sample)\n",
    "print(bow_sample.shape)"
   ]
  },
  {
   "cell_type": "code",
   "execution_count": 62,
   "metadata": {
    "collapsed": false
   },
   "outputs": [
    {
     "name": "stdout",
     "output_type": "stream",
     "text": [
      "  (0, 3062)\t0.40017399828\n",
      "  (0, 2170)\t0.420975810301\n",
      "  (0, 1934)\t0.429822771582\n",
      "  (0, 1854)\t0.303074498094\n",
      "  (0, 1539)\t0.365157581124\n",
      "  (0, 565)\t0.502691070963\n"
     ]
    }
   ],
   "source": [
    "#calculating tf-idf score for sample tweet\n",
    "tfidf_sample = tfidf_transformer.transform(bow_sample)\n",
    "print(tfidf_sample)"
   ]
  },
  {
   "cell_type": "code",
   "execution_count": 63,
   "metadata": {
    "collapsed": false
   },
   "outputs": [
    {
     "name": "stdout",
     "output_type": "stream",
     "text": [
      "predicted: Advertisement\n",
      "expected: Advertisement\n"
     ]
    }
   ],
   "source": [
    "#generating a prediction in caomparision with the actual labelled tweet\n",
    "print('predicted:', auto_expo_model.predict(tfidf_sample)[0])\n",
    "print('expected:', sample_df.target[30])"
   ]
  },
  {
   "cell_type": "code",
   "execution_count": 64,
   "metadata": {
    "collapsed": false
   },
   "outputs": [
    {
     "data": {
      "text/html": [
       "<div>\n",
       "<table border=\"1\" class=\"dataframe\">\n",
       "  <thead>\n",
       "    <tr style=\"text-align: right;\">\n",
       "      <th></th>\n",
       "      <th>counts</th>\n",
       "    </tr>\n",
       "  </thead>\n",
       "  <tbody>\n",
       "    <tr>\n",
       "      <th>Automobile</th>\n",
       "      <td>1740</td>\n",
       "    </tr>\n",
       "    <tr>\n",
       "      <th>Others</th>\n",
       "      <td>1694</td>\n",
       "    </tr>\n",
       "    <tr>\n",
       "      <th>Entertainment</th>\n",
       "      <td>615</td>\n",
       "    </tr>\n",
       "    <tr>\n",
       "      <th>Advertisement</th>\n",
       "      <td>473</td>\n",
       "    </tr>\n",
       "    <tr>\n",
       "      <th>Technology</th>\n",
       "      <td>327</td>\n",
       "    </tr>\n",
       "  </tbody>\n",
       "</table>\n",
       "</div>"
      ],
      "text/plain": [
       "               counts\n",
       "Automobile       1740\n",
       "Others           1694\n",
       "Entertainment     615\n",
       "Advertisement     473\n",
       "Technology        327"
      ]
     },
     "execution_count": 64,
     "metadata": {},
     "output_type": "execute_result"
    }
   ],
   "source": [
    "#creating a dataframe for the counts of manually labelled data\n",
    "value_count_df = pd.DataFrame(Series(sample_df.target).value_counts())\n",
    "value_count_df.columns = ['counts']\n",
    "value_count_df.head()"
   ]
  },
  {
   "cell_type": "code",
   "execution_count": 65,
   "metadata": {
    "collapsed": false
   },
   "outputs": [
    {
     "data": {
      "image/png": "[encoded data removed]",
      "text/plain": [
       "<matplotlib.figure.Figure at 0x136f16e96d8>"
      ]
     },
     "metadata": {},
     "output_type": "display_data"
    }
   ],
   "source": [
    "# make a square figure and axes\n",
    "figure(1, figsize=(8,8))\n",
    "ax = axes([0.1, 0.1, 0.8, 0.8])\n",
    "\n",
    "# The slices will be ordered and plotted counter-clockwise.\n",
    "labels = value_count_df.index\n",
    "fracs = value_count_df.counts\n",
    "explode=(0.05, 0.05, 0.05,0.05,0.05,0.05)\n",
    "\n",
    "pie(fracs, explode=explode, labels=labels,\n",
    "                autopct='%1.1f%%', shadow=True, startangle=90)\n",
    "\n",
    "title('Tweets Categorization', bbox={'facecolor':'0.9', 'pad':10})\n",
    "\n",
    "show()"
   ]
  },
  {
   "cell_type": "markdown",
   "metadata": {
    "collapsed": false
   },
   "source": [
    "## Naive Bayes Multinominal"
   ]
  },
  {
   "cell_type": "code",
   "execution_count": 69,
   "metadata": {
    "collapsed": false
   },
   "outputs": [
    {
     "name": "stdout",
     "output_type": "stream",
     "text": [
      "Training Dataset :  4000 \n",
      "Testing Dataset :  1000 \n",
      "Total Values :  5000\n"
     ]
    }
   ],
   "source": [
    "from sklearn.metrics import classification_report\n",
    "from sklearn.cross_validation import train_test_split\n",
    "\n",
    "#dividing the dataset into training and testing dataset\n",
    "tweet_train, tweet_test, label_train, label_test = \\\n",
    "train_test_split(sample_df['text'], sample_df['target'], test_size=0.2)\n",
    "\n",
    "\n",
    "print('Training Dataset : ',len(tweet_train),'\\nTesting Dataset : ',len(tweet_test),'\\nTotal Values : ',len(tweet_train) + len(tweet_test))"
   ]
  },
  {
   "cell_type": "code",
   "execution_count": 70,
   "metadata": {
    "collapsed": false
   },
   "outputs": [],
   "source": [
    "from sklearn.pipeline import Pipeline\n",
    "\n",
    "#creating a pipeline to pass the tweets for the classification purpose\n",
    "naive_pipeline = Pipeline([\n",
    "    ('bow', CountVectorizer(analyzer=text_preprocess)),  # strings to token integer counts\n",
    "    ('tfidf', TfidfTransformer()),  # integer counts to weighted TF-IDF scores\n",
    "    ('classifier', MultinomialNB()),  # train on TF-IDF vectors with Naive Bayes classifier\n",
    "])"
   ]
  },
  {
   "cell_type": "code",
   "execution_count": 72,
   "metadata": {
    "collapsed": false
   },
   "outputs": [
    {
     "name": "stdout",
     "output_type": "stream",
     "text": [
      "             precision    recall  f1-score   support\n",
      "\n",
      "Advertisement       0.48      0.81      0.60        67\n",
      " Automobile       0.92      0.62      0.74       479\n",
      "   Business       0.30      1.00      0.47        10\n",
      "Entertainment       0.81      0.85      0.83       104\n",
      "     Others       0.62      0.71      0.66       307\n",
      " Technology       0.45      0.94      0.61        33\n",
      "\n",
      "avg / total       0.76      0.70      0.71      1000\n",
      "\n"
     ]
    }
   ],
   "source": [
    "#fitting a pipeline\n",
    "naive_pipeline.fit(tweet_train,label_train)\n",
    "\n",
    "#predicting the testing dataset\n",
    "predictions_naive = naive_pipeline.predict(tweet_test)\n",
    "\n",
    "#printing the classification report\n",
    "print(classification_report(predictions_naive,label_test))"
   ]
  },
  {
   "cell_type": "code",
   "execution_count": 93,
   "metadata": {
    "collapsed": false
   },
   "outputs": [
    {
     "data": {
      "text/html": [
       "<div>\n",
       "<table border=\"1\" class=\"dataframe\">\n",
       "  <thead>\n",
       "    <tr style=\"text-align: right;\">\n",
       "      <th></th>\n",
       "      <th>naive_counts</th>\n",
       "    </tr>\n",
       "  </thead>\n",
       "  <tbody>\n",
       "    <tr>\n",
       "      <th>Automobile</th>\n",
       "      <td>10384</td>\n",
       "    </tr>\n",
       "    <tr>\n",
       "      <th>Others</th>\n",
       "      <td>6760</td>\n",
       "    </tr>\n",
       "    <tr>\n",
       "      <th>Entertainment</th>\n",
       "      <td>1239</td>\n",
       "    </tr>\n",
       "    <tr>\n",
       "      <th>Advertisement</th>\n",
       "      <td>627</td>\n",
       "    </tr>\n",
       "    <tr>\n",
       "      <th>Technology</th>\n",
       "      <td>114</td>\n",
       "    </tr>\n",
       "    <tr>\n",
       "      <th>Business</th>\n",
       "      <td>12</td>\n",
       "    </tr>\n",
       "  </tbody>\n",
       "</table>\n",
       "</div>"
      ],
      "text/plain": [
       "               naive_counts\n",
       "Automobile            10384\n",
       "Others                 6760\n",
       "Entertainment          1239\n",
       "Advertisement           627\n",
       "Technology              114\n",
       "Business                 12"
      ]
     },
     "execution_count": 93,
     "metadata": {},
     "output_type": "execute_result"
    }
   ],
   "source": [
    "#creating a naive bayes predictor\n",
    "naive_predictor = naive_pipeline.predict(tweet_df[5001:]['text'])\n",
    "\n",
    "#dataframe to counts all predictions\n",
    "naive_df = pd.DataFrame(Series(naive_predictor).value_counts())\n",
    "naive_df.columns = ['naive_counts']\n",
    "naive_df"
   ]
  },
  {
   "cell_type": "code",
   "execution_count": 94,
   "metadata": {
    "collapsed": false
   },
   "outputs": [
    {
     "data": {
      "text/plain": [
       "<seaborn.axisgrid.FacetGrid at 0x136f3e6cf98>"
      ]
     },
     "execution_count": 94,
     "metadata": {},
     "output_type": "execute_result"
    },
    {
     "data": {
      "image/png": "[encoded data removed]",
      "text/plain": [
       "<matplotlib.figure.Figure at 0x136f3e6c5c0>"
      ]
     },
     "metadata": {},
     "output_type": "display_data"
    }
   ],
   "source": [
    "naive_graph = sns.factorplot(x=naive_df.index,y='naive_counts',data=naive_df,aspect=3,kind='bar')\n",
    "naive_graph.set_axis_labels(\"Classes\", \"Tweet Count\")"
   ]
  },
  {
   "cell_type": "markdown",
   "metadata": {},
   "source": [
    "## Support Vector Machines"
   ]
  },
  {
   "cell_type": "code",
   "execution_count": 78,
   "metadata": {
    "collapsed": false
   },
   "outputs": [],
   "source": [
    "from sklearn.linear_model import SGDClassifier\n",
    "\n",
    "#creating a SVM pipeline for the classification of tweets\n",
    "svm_pipeline = Pipeline([('vect', CountVectorizer(analyzer = text_preprocess)),\n",
    "                      ('tfidf', TfidfTransformer()),\n",
    "                      ('clf', SGDClassifier(loss='hinge', penalty='l2',\n",
    "                                            alpha=1e-3, n_iter=5, random_state=42)),\n",
    " ])"
   ]
  },
  {
   "cell_type": "code",
   "execution_count": 79,
   "metadata": {
    "collapsed": false
   },
   "outputs": [
    {
     "name": "stdout",
     "output_type": "stream",
     "text": [
      "             precision    recall  f1-score   support\n",
      "\n",
      "Advertisement       0.58      0.82      0.68        80\n",
      " Automobile       0.91      0.82      0.86       359\n",
      "   Business       0.48      0.94      0.64        17\n",
      "Entertainment       0.81      0.84      0.82       104\n",
      "     Others       0.84      0.78      0.81       383\n",
      " Technology       0.72      0.88      0.79        57\n",
      "\n",
      "avg / total       0.83      0.81      0.81      1000\n",
      "\n"
     ]
    }
   ],
   "source": [
    "#fitting pipeline on SVM\n",
    "svm_pipeline.fit(tweet_train, label_train)\n",
    "\n",
    "#predicting values on testing dataset based on SVM classifier\n",
    "predictions_svm = svm_pipeline.predict(tweet_test)\n",
    "\n",
    "#print the classification report\n",
    "print(classification_report(predictions_svm,label_test))"
   ]
  },
  {
   "cell_type": "code",
   "execution_count": 95,
   "metadata": {
    "collapsed": false
   },
   "outputs": [
    {
     "data": {
      "text/html": [
       "<div>\n",
       "<table border=\"1\" class=\"dataframe\">\n",
       "  <thead>\n",
       "    <tr style=\"text-align: right;\">\n",
       "      <th></th>\n",
       "      <th>svm_counts</th>\n",
       "    </tr>\n",
       "  </thead>\n",
       "  <tbody>\n",
       "    <tr>\n",
       "      <th>Others</th>\n",
       "      <td>8244</td>\n",
       "    </tr>\n",
       "    <tr>\n",
       "      <th>Automobile</th>\n",
       "      <td>6911</td>\n",
       "    </tr>\n",
       "    <tr>\n",
       "      <th>Advertisement</th>\n",
       "      <td>1776</td>\n",
       "    </tr>\n",
       "    <tr>\n",
       "      <th>Entertainment</th>\n",
       "      <td>1345</td>\n",
       "    </tr>\n",
       "    <tr>\n",
       "      <th>Technology</th>\n",
       "      <td>523</td>\n",
       "    </tr>\n",
       "    <tr>\n",
       "      <th>Business</th>\n",
       "      <td>337</td>\n",
       "    </tr>\n",
       "  </tbody>\n",
       "</table>\n",
       "</div>"
      ],
      "text/plain": [
       "               svm_counts\n",
       "Others               8244\n",
       "Automobile           6911\n",
       "Advertisement        1776\n",
       "Entertainment        1345\n",
       "Technology            523\n",
       "Business              337"
      ]
     },
     "execution_count": 95,
     "metadata": {},
     "output_type": "execute_result"
    }
   ],
   "source": [
    "#predicting rest of the tweets with help of SVM classifier\n",
    "svm_predictor = svm_pipeline.predict(tweet_df[5001:]['text'])\n",
    "\n",
    "#dataframe to count all the predictions\n",
    "svm_df = pd.DataFrame(Series(svm_predictor).value_counts())\n",
    "svm_df.columns = ['svm_counts']\n",
    "svm_df"
   ]
  },
  {
   "cell_type": "code",
   "execution_count": 98,
   "metadata": {
    "collapsed": false
   },
   "outputs": [
    {
     "data": {
      "text/plain": [
       "<seaborn.axisgrid.FacetGrid at 0x136f5248908>"
      ]
     },
     "execution_count": 98,
     "metadata": {},
     "output_type": "execute_result"
    },
    {
     "data": {
      "image/png": "[encoded data removed]",
      "text/plain": [
       "<matplotlib.figure.Figure at 0x136f52488d0>"
      ]
     },
     "metadata": {},
     "output_type": "display_data"
    }
   ],
   "source": [
    "svm_graph = sns.factorplot(svm_df.index,y='svm_counts',data=svm_df,aspect=3,kind='bar')\n",
    "svm_graph.set_axis_labels(\"Classes\", \"Tweet Count\")"
   ]
  },
  {
   "cell_type": "code",
   "execution_count": 100,
   "metadata": {
    "collapsed": false
   },
   "outputs": [
    {
     "data": {
      "text/html": [
       "<div>\n",
       "<table border=\"1\" class=\"dataframe\">\n",
       "  <thead>\n",
       "    <tr style=\"text-align: right;\">\n",
       "      <th></th>\n",
       "      <th>naive_counts</th>\n",
       "      <th>svm_counts</th>\n",
       "    </tr>\n",
       "  </thead>\n",
       "  <tbody>\n",
       "    <tr>\n",
       "      <th>Advertisement</th>\n",
       "      <td>627</td>\n",
       "      <td>1776</td>\n",
       "    </tr>\n",
       "    <tr>\n",
       "      <th>Automobile</th>\n",
       "      <td>10384</td>\n",
       "      <td>6911</td>\n",
       "    </tr>\n",
       "    <tr>\n",
       "      <th>Business</th>\n",
       "      <td>12</td>\n",
       "      <td>337</td>\n",
       "    </tr>\n",
       "    <tr>\n",
       "      <th>Entertainment</th>\n",
       "      <td>1239</td>\n",
       "      <td>1345</td>\n",
       "    </tr>\n",
       "    <tr>\n",
       "      <th>Others</th>\n",
       "      <td>6760</td>\n",
       "      <td>8244</td>\n",
       "    </tr>\n",
       "    <tr>\n",
       "      <th>Technology</th>\n",
       "      <td>114</td>\n",
       "      <td>523</td>\n",
       "    </tr>\n",
       "  </tbody>\n",
       "</table>\n",
       "</div>"
      ],
      "text/plain": [
       "               naive_counts  svm_counts\n",
       "Advertisement           627        1776\n",
       "Automobile            10384        6911\n",
       "Business                 12         337\n",
       "Entertainment          1239        1345\n",
       "Others                 6760        8244\n",
       "Technology              114         523"
      ]
     },
     "execution_count": 100,
     "metadata": {},
     "output_type": "execute_result"
    }
   ],
   "source": [
    "#creating a comparision dataframe for comparing the predictions of both algorithms\n",
    "comparision_df = pd.concat([naive_df,svm_df],axis=1)\n",
    "comparision_df"
   ]
  },
  {
   "cell_type": "code",
   "execution_count": 101,
   "metadata": {
    "collapsed": false
   },
   "outputs": [
    {
     "data": {
      "text/plain": [
       "<matplotlib.axes._subplots.AxesSubplot at 0x136f3f77d68>"
      ]
     },
     "execution_count": 101,
     "metadata": {},
     "output_type": "execute_result"
    },
    {
     "data": {
      "image/png": "[encoded data removed]",
      "text/plain": [
       "<matplotlib.figure.Figure at 0x136f3ef7e48>"
      ]
     },
     "metadata": {},
     "output_type": "display_data"
    }
   ],
   "source": [
    "comparision_df.plot(x=comparision_df.index,y=['naive_counts','svm_counts'],marker='o',linestyle='-',figsize=(18,8),legend=True,label=['SVM'])"
   ]
  },
  {
   "cell_type": "code",
   "execution_count": null,
   "metadata": {
    "collapsed": false
   },
   "outputs": [],
   "source": []
  },
  {
   "cell_type": "code",
   "execution_count": null,
   "metadata": {
    "collapsed": true
   },
   "outputs": [],
   "source": []
  }
 ],
 "metadata": {
  "kernelspec": {
   "display_name": "Python 3",
   "language": "python",
   "name": "python3"
  },
  "language_info": {
   "codemirror_mode": {
    "name": "ipython",
    "version": 3
   },
   "file_extension": ".py",
   "mimetype": "text/x-python",
   "name": "python",
   "nbconvert_exporter": "python",
   "pygments_lexer": "ipython3",
   "version": "3.5.1"
  }
 },
 "nbformat": 4,
 "nbformat_minor": 0
}
