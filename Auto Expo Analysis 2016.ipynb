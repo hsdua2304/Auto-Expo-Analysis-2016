{
 "cells": [
  {
   "cell_type": "markdown",
   "metadata": {},
   "source": [
    "# AutoExpo 2016 Analysis\n",
    "\n",
    "\n",
    "## First step :   Collecting tweets with help of Twitter Streaming API"
   ]
  },
  {
   "cell_type": "raw",
   "metadata": {},
   "source": [
    "from tweepy.streaming import StreamListener\n",
    "from tweepy import OAuthHandler\n",
    "from tweepy import Stream\n",
    "\n",
    "#These variables contain the credentials for accessing tweets through twitter \n",
    "access_token = \"2932636388-Y95Nj2gZIBV9eHtIZJF8e79UqWHwlbnVOc8HIH4\"\n",
    "access_token_secret = \"T3AltGmYJ9EVKJrutm5xcj53aOOPgRW7CQuUzyYfGwJWf\"\n",
    "consumer_key = \"Pb7370RdndM7wepDO8w6OsB80\"\n",
    "consumer_secret = \"FKwKvocjaZeFeI67AV08vIAj6otZEPG68xDfafEKKoBjvg3XlI\"\n",
    "\n",
    "\n",
    "class StdOutListener(StreamListener):\n",
    "\n",
    "    def on_data(self, data):\n",
    "        try:\n",
    "            with open('tweets.txt','a') as tf:\n",
    "                \n",
    "                tf.write(data)\n",
    "                return True\n",
    "        except BaseException as e:\n",
    "            print(\"Error on_data: %s\" % str(e))\n",
    "        return True\n",
    "\n",
    "    def on_error(self, status):\n",
    "        print status\n",
    "        return True\n",
    "\n",
    "        \n",
    "        \n",
    "if __name__ == '__main__':\n",
    "\n",
    "    #This handles Twitter authetification and the connection to Twitter Streaming API\n",
    "    l = StdOutListener()\n",
    "    auth = OAuthHandler(consumer_key, consumer_secret)\n",
    "    auth.set_access_token(access_token, access_token_secret)\n",
    "    stream = Stream(auth, l)\n",
    "\n",
    "    stream.filter(track=['AETMS2016','AutoExpo2016','autoexpo2016','auto expo','Auto Expo 2016'])"
   ]
  },
  {
   "cell_type": "code",
   "execution_count": 30,
   "metadata": {
    "collapsed": true
   },
   "outputs": [],
   "source": [
    "import pandas as pd\n",
    "import numpy as np\n",
    "from pandas import Series,DataFrame\n",
    "import json\n",
    "import string\n",
    "import re\n",
    "import operator \n",
    "from collections import Counter\n",
    "import matplotlib.pyplot as plt\n",
    "import seaborn as sns\n",
    "sns.set_style('whitegrid')\n",
    "%matplotlib inline\n"
   ]
  },
  {
   "cell_type": "markdown",
   "metadata": {},
   "source": [
    "### Total Number of tweets and sample tweets"
   ]
  },
  {
   "cell_type": "code",
   "execution_count": 3,
   "metadata": {
    "collapsed": false
   },
   "outputs": [
    {
     "name": "stdout",
     "output_type": "stream",
     "text": [
      "Sample Tweet in JSON Format : \n",
      "\n",
      "[\n",
      "    {\n",
      "        \"id\": 695592766412341248,\n",
      "        \"possibly_sensitive\": false,\n",
      "        \"lang\": \"en\",\n",
      "        \"entities\": {\n",
      "            \"urls\": [\n",
      "                {\n",
      "                    \"display_url\": \"ln.is/www.youtube.co\\u2026\",\n",
      "                    \"expanded_url\": \"http://ln.is/www.youtube.com/bqd3I\",\n",
      "                    \"url\": \"https://t.co/q2m8ZPbkn7\",\n",
      "                    \"indices\": [\n",
      "                        112,\n",
      "                        135\n",
      "                    ]\n",
      "                }\n",
      "            ],\n",
      "            \"symbols\": [],\n",
      "            \"hashtags\": [\n",
      "                {\n",
      "                    \"text\": \"DatsunPavilion\",\n",
      "                    \"indices\": [\n",
      "                        84,\n",
      "                        99\n",
      "                    ]\n",
      "                },\n",
      "                {\n",
      "                    \"text\": \"AETMS2016\",\n",
      "                    \"indices\": [\n",
      "                        100,\n",
      "                        110\n",
      "                    ]\n",
      "                }\n",
      "            ],\n",
      "            \"user_mentions\": []\n",
      "        },\n",
      "        \"text\": \"Now GO-cross Concept has added a sense of fun &amp; adventure to the line-up at the #DatsunPavilion #AETMS2016  https://t.co/q2m8ZPbkn7\",\n",
      "        \"in_reply_to_user_id_str\": null,\n",
      "        \"id_str\": \"695592766412341248\",\n",
      "        \"geo\": null,\n",
      "        \"timestamp_ms\": \"1454677213658\",\n",
      "        \"favorite_count\": 0,\n",
      "        \"source\": \"<a href=\\\"http://linkis.com\\\" rel=\\\"nofollow\\\">Linkis.com</a>\",\n",
      "        \"truncated\": false,\n",
      "        \"retweet_count\": 0,\n",
      "        \"is_quote_status\": false,\n",
      "        \"user\": {\n",
      "            \"default_profile_image\": false,\n",
      "            \"id\": 383179849,\n",
      "            \"lang\": \"en\",\n",
      "            \"follow_request_sent\": null,\n",
      "            \"profile_background_tile\": false,\n",
      "            \"followers_count\": 108975,\n",
      "            \"geo_enabled\": true,\n",
      "            \"favourites_count\": 23581,\n",
      "            \"notifications\": null,\n",
      "            \"id_str\": \"383179849\",\n",
      "            \"profile_sidebar_fill_color\": \"95E8EC\",\n",
      "            \"profile_image_url_https\": \"https://pbs.twimg.com/profile_images/694233257538269185/4xKWpeVf_normal.jpg\",\n",
      "            \"friends_count\": 3485,\n",
      "            \"profile_background_color\": \"FFCC4D\",\n",
      "            \"following\": null,\n",
      "            \"name\": \"Sujay Koner\",\n",
      "            \"default_profile\": false,\n",
      "            \"profile_link_color\": \"3B94D9\",\n",
      "            \"protected\": false,\n",
      "            \"verified\": false,\n",
      "            \"url\": \"http://instagram.com/sujaykoner\",\n",
      "            \"location\": \"Hyderabad, India\",\n",
      "            \"profile_banner_url\": \"https://pbs.twimg.com/profile_banners/383179849/1453226224\",\n",
      "            \"profile_sidebar_border_color\": \"FFFFFF\",\n",
      "            \"screen_name\": \"sujaykoner\",\n",
      "            \"profile_background_image_url_https\": \"https://pbs.twimg.com/profile_background_images/625233766513045504/LrLjLYHN.jpg\",\n",
      "            \"time_zone\": \"New Delhi\",\n",
      "            \"profile_use_background_image\": true,\n",
      "            \"listed_count\": 72,\n",
      "            \"created_at\": \"Sat Oct 01 12:15:40 +0000 2011\",\n",
      "            \"is_translator\": false,\n",
      "            \"profile_background_image_url\": \"http://pbs.twimg.com/profile_background_images/625233766513045504/LrLjLYHN.jpg\",\n",
      "            \"utc_offset\": 19800,\n",
      "            \"profile_text_color\": \"3C3940\",\n",
      "            \"contributors_enabled\": false,\n",
      "            \"profile_image_url\": \"http://pbs.twimg.com/profile_images/694233257538269185/4xKWpeVf_normal.jpg\",\n",
      "            \"description\": \"A Student | Childish Teenager | Social Media Influencer | Contests Freak | Gadget Lovers | @imVkohli Addict | Love Cricket | Proud Indian |\",\n",
      "            \"statuses_count\": 77384\n",
      "        },\n",
      "        \"retweeted\": false,\n",
      "        \"created_at\": \"Fri Feb 05 13:00:13 +0000 2016\",\n",
      "        \"in_reply_to_user_id\": null,\n",
      "        \"coordinates\": null,\n",
      "        \"in_reply_to_status_id_str\": null,\n",
      "        \"contributors\": null,\n",
      "        \"in_reply_to_screen_name\": null,\n",
      "        \"in_reply_to_status_id\": null,\n",
      "        \"place\": null,\n",
      "        \"filter_level\": \"low\",\n",
      "        \"favorited\": false\n",
      "    }\n",
      "]\n"
     ]
    }
   ],
   "source": [
    "tweets = []\n",
    "tweets_file = open('tweets.json', 'r',encoding='utf-8')\n",
    "for line in tweets_file:\n",
    "    try:\n",
    "        tweet = json.loads(line)\n",
    "        tweets.append(tweet)\n",
    "    except:\n",
    "        continue\n",
    "        \n",
    "print('Sample Tweet in JSON Format : \\n')\n",
    "print(json.dumps(tweets[1:2],indent=4))"
   ]
  },
  {
   "cell_type": "code",
   "execution_count": 4,
   "metadata": {
    "collapsed": false
   },
   "outputs": [
    {
     "name": "stdout",
     "output_type": "stream",
     "text": [
      "Total Numbe of tweets of tweets: 24087\n",
      "\n",
      "\n",
      "Example tweets : \n",
      "\n",
      "RT @PressPlayTVapp: Get all action from @AutoExpo2016  on #PressPlay! Download the App Now: https://t.co/WIEt5hbRZ5 #automobile #AETMS16 ht…\n",
      "---------------------------------------------------------------------------------\n",
      "Now GO-cross Concept has added a sense of fun &amp; adventure to the line-up at the #DatsunPavilion #AETMS2016  https://t.co/q2m8ZPbkn7\n",
      "---------------------------------------------------------------------------------\n",
      "RT @AutoExpo2016: It's raining celebrities at #AETMS16! #Spotted the dashing @AnilKapoor at the @Maruti_Corp pavilion @NexaExperience https…\n",
      "---------------------------------------------------------------------------------\n"
     ]
    }
   ],
   "source": [
    "print('Total Numbe of tweets of tweets:', len(tweets))\n",
    "print('\\n')\n",
    "print('Example tweets : \\n')\n",
    "for tweet in tweets[:3]:\n",
    "    print(tweet['text'])\n",
    "    print('---------------------------------------------------------------------------------')"
   ]
  },
  {
   "cell_type": "markdown",
   "metadata": {},
   "source": [
    "# Text Preprocessing\n",
    "\n",
    "### 1. In this part collected tweets are preprocessed i.e Tokenizing the text."
   ]
  },
  {
   "cell_type": "code",
   "execution_count": 5,
   "metadata": {
    "collapsed": false
   },
   "outputs": [
    {
     "name": "stdout",
     "output_type": "stream",
     "text": [
      "Tweet after preprocessing : \n",
      "\n",
      "['RT', '@PressPlayTVapp', ':', 'Get', 'all', 'action', 'from', '@AutoExpo2016', 'on', '#PressPlay', '!', 'Download', 'the', 'App', 'Now', ':', 'https://t.co/WIEt5hbRZ5', '#automobile', '#AETMS16', 'ht', '…']\n"
     ]
    }
   ],
   "source": [
    "emoticons_str = r\"\"\"\n",
    "    (?:\n",
    "        [:=;] # Eyes\n",
    "        [oO\\-]? # Nose (optional)\n",
    "        [D\\)\\]\\(\\]/\\\\OpP] # Mouth\n",
    "    )\"\"\"\n",
    " \n",
    "regex_str = [\n",
    "    emoticons_str,\n",
    "    r'<[^>]+>', # HTML tags\n",
    "    r'(?:@[\\w_]+)', # @-mentions\n",
    "    r\"(?:\\#+[\\w_]+[\\w\\'_\\-]*[\\w_]+)\", # hash-tags\n",
    "    r'http[s]?://(?:[a-z]|[0-9]|[$-_@.&+]|[!*\\(\\),]|(?:%[0-9a-f][0-9a-f]))+', # URLs\n",
    "    r'[^\\x00-\\x7F]+',#unicode\n",
    "    r'(?:(?:\\d+,?)+(?:\\.?\\d+)?)', # numbers\n",
    "    r\"(?:[a-z][a-z'\\-_]+[a-z])\", # words with - and '\n",
    "    r'(?:[\\w_]+)', # other words\n",
    "    r'(?:\\S)' # anything else\n",
    "]\n",
    "    \n",
    "tokens_re = re.compile(r'('+'|'.join(regex_str)+')', re.VERBOSE | re.IGNORECASE)\n",
    "emoticon_re = re.compile(r'^'+emoticons_str+'$', re.VERBOSE | re.IGNORECASE)\n",
    " \n",
    "def tokenize(s):\n",
    "    return tokens_re.findall(s)\n",
    " \n",
    "def preprocess(s, lowercase=False):\n",
    "    tokens = tokenize(s)\n",
    "    if lowercase:\n",
    "        tokens = [token if emoticon_re.search(token) else token.lower() for token in tokens]\n",
    "    return tokens\n",
    " \n",
    "tweet = \"RT @PressPlayTVapp: Get all action from @AutoExpo2016  on #PressPlay! Download the App Now: https://t.co/WIEt5hbRZ5 #automobile #AETMS16 ht…\"\n",
    "\n",
    "print('Tweet after preprocessing : \\n')\n",
    "print(preprocess(tweet))"
   ]
  },
  {
   "cell_type": "markdown",
   "metadata": {},
   "source": [
    "### 2. Removing Stopwords i.e unnecessary words will be removed"
   ]
  },
  {
   "cell_type": "code",
   "execution_count": 6,
   "metadata": {
    "collapsed": false
   },
   "outputs": [],
   "source": [
    "import nltk\n",
    "from nltk.corpus import stopwords\n",
    "import string\n",
    "punctuation = ['!', '\"', '#', '$', '%', '&', \"'\", '(', ')', '*', '+', ',', '-', '.', '/', ':', ';', \n",
    "               '<', '=', '>', '?', '@', '[', '\\\\', ']', '^', '_', '`', '{', '|', '}', '~']\n",
    "\n",
    "hindiwords = nltk.corpus.indian.words('hindi.pos')\n",
    "\n",
    "stop = stopwords.words('english') + punctuation + ['RT', 'via','#AETMS2016','#AutoExpo2016','Auto','Expo','2016','amp','The','\\xa0','…','https']\n"
   ]
  },
  {
   "cell_type": "code",
   "execution_count": 7,
   "metadata": {
    "collapsed": false
   },
   "outputs": [
    {
     "name": "stdout",
     "output_type": "stream",
     "text": [
      "Tweets before preprocessing : \n",
      "\n",
      "RT @PressPlayTVapp: Get all action from @AutoExpo2016  on #PressPlay! Download the App Now: https://t.co/WIEt5hbRZ5 #automobile #AETMS16 ht…\n",
      "\n",
      "Tweets after preprocessing : \n",
      "\n",
      "@PressPlayTVapp Get action @AutoExpo2016 #PressPlay Download App Now https://t.co/WIEt5hbRZ5 #automobile #AETMS16 ht\n"
     ]
    }
   ],
   "source": [
    "tweet = \"RT @PressPlayTVapp: Get all action from @AutoExpo2016  on #PressPlay! Download the App Now: https://t.co/WIEt5hbRZ5 #automobile #AETMS16 ht…\"\n",
    "after_stop = [term for term in preprocess(tweet) if term not in stop]\n",
    "print('Tweets before preprocessing : \\n')\n",
    "print(tweet)\n",
    "print('\\nTweets after preprocessing : \\n')\n",
    "print(' '.join(after_stop))"
   ]
  },
  {
   "cell_type": "code",
   "execution_count": null,
   "metadata": {
    "collapsed": false
   },
   "outputs": [],
   "source": []
  },
  {
   "cell_type": "markdown",
   "metadata": {
    "collapsed": false
   },
   "source": [
    "## Term Frequency\n",
    "\n",
    "### In this part we output the Top Hastags,Mentions,Terms used and Language"
   ]
  },
  {
   "cell_type": "code",
   "execution_count": 8,
   "metadata": {
    "collapsed": false
   },
   "outputs": [],
   "source": [
    "fname = 'tweets.json'\n",
    "with open(fname, 'r') as f:\n",
    "    hashtag = Counter()\n",
    "    mention = Counter()\n",
    "    termOnly = Counter()\n",
    "    count_all = Counter()\n",
    "    \n",
    "    lang = []\n",
    "    \n",
    "    for line in f:\n",
    "        try:\n",
    "            tweet = json.loads(line)\n",
    "            \n",
    "            terms_stop = [term for term in preprocess(tweet['text']) if term not in stop]\n",
    "            \n",
    "            terms_hash = [term for term in preprocess(tweet['text']) if term.startswith('#') and term != '#']\n",
    "            \n",
    "            terms_only = [term for term in preprocess(tweet['text']) if term not in stop and not term.startswith(('#', '@'))] \n",
    "            \n",
    "            terms_mention = [term for term in preprocess(tweet['text']) if term.startswith('@') and term != '@']\n",
    "            \n",
    "            if tweet['lang'] != 'und':\n",
    "                lang.append(tweet['lang'])\n",
    "            \n",
    "            lang_count = Counter(lang)\n",
    "\n",
    "            count_all.update(terms_stop)\n",
    "            \n",
    "            hashtag.update(terms_hash)\n",
    "            \n",
    "            mention.update(terms_mention)\n",
    "            \n",
    "            termOnly.update(terms_only)\n",
    "        except ValueError:\n",
    "            continue\n"
   ]
  },
  {
   "cell_type": "code",
   "execution_count": null,
   "metadata": {
    "collapsed": false
   },
   "outputs": [],
   "source": []
  },
  {
   "cell_type": "code",
   "execution_count": 16,
   "metadata": {
    "collapsed": false
   },
   "outputs": [],
   "source": [
    "hashtag_df = DataFrame(hashtag.most_common())\n",
    "mention_df = DataFrame(mention.most_common())\n",
    "termOnly_df = DataFrame(termOnly.most_common())\n",
    "lang_df = DataFrame(lang_count.most_common())\n",
    "hashtag_df.columns = ['Hashtags','Hashtag_count']\n",
    "mention_df.columns = ['Mentions','Mention_count']\n",
    "termOnly_df.columns = ['TermsOnly','Term_count']\n",
    "lang_df.columns = ['Language','Language_count']"
   ]
  },
  {
   "cell_type": "code",
   "execution_count": 17,
   "metadata": {
    "collapsed": false
   },
   "outputs": [
    {
     "data": {
      "text/html": [
       "<div>\n",
       "<table border=\"1\" class=\"dataframe\">\n",
       "  <thead>\n",
       "    <tr style=\"text-align: right;\">\n",
       "      <th></th>\n",
       "      <th>Hashtags</th>\n",
       "      <th>Hashtag_count</th>\n",
       "    </tr>\n",
       "  </thead>\n",
       "  <tbody>\n",
       "    <tr>\n",
       "      <th>0</th>\n",
       "      <td>#AutoExpo2016</td>\n",
       "      <td>7190</td>\n",
       "    </tr>\n",
       "    <tr>\n",
       "      <th>1</th>\n",
       "      <td>#AETMS16</td>\n",
       "      <td>1764</td>\n",
       "    </tr>\n",
       "    <tr>\n",
       "      <th>2</th>\n",
       "      <td>#NissanPavilion</td>\n",
       "      <td>1714</td>\n",
       "    </tr>\n",
       "    <tr>\n",
       "      <th>3</th>\n",
       "      <td>#AETMS2016</td>\n",
       "      <td>1047</td>\n",
       "    </tr>\n",
       "    <tr>\n",
       "      <th>4</th>\n",
       "      <td>#ToyotaAtAutoExpo</td>\n",
       "      <td>889</td>\n",
       "    </tr>\n",
       "  </tbody>\n",
       "</table>\n",
       "</div>"
      ],
      "text/plain": [
       "            Hashtags  Hashtag_count\n",
       "0      #AutoExpo2016           7190\n",
       "1           #AETMS16           1764\n",
       "2    #NissanPavilion           1714\n",
       "3         #AETMS2016           1047\n",
       "4  #ToyotaAtAutoExpo            889"
      ]
     },
     "execution_count": 17,
     "metadata": {},
     "output_type": "execute_result"
    }
   ],
   "source": [
    "hashtag_df.head()"
   ]
  },
  {
   "cell_type": "code",
   "execution_count": 18,
   "metadata": {
    "collapsed": false
   },
   "outputs": [
    {
     "data": {
      "text/html": [
       "<div>\n",
       "<table border=\"1\" class=\"dataframe\">\n",
       "  <thead>\n",
       "    <tr style=\"text-align: right;\">\n",
       "      <th></th>\n",
       "      <th>Mentions</th>\n",
       "      <th>Mention_count</th>\n",
       "    </tr>\n",
       "  </thead>\n",
       "  <tbody>\n",
       "    <tr>\n",
       "      <th>0</th>\n",
       "      <td>@AutoExpo2016</td>\n",
       "      <td>5164</td>\n",
       "    </tr>\n",
       "    <tr>\n",
       "      <th>1</th>\n",
       "      <td>@Nissan_India</td>\n",
       "      <td>1364</td>\n",
       "    </tr>\n",
       "    <tr>\n",
       "      <th>2</th>\n",
       "      <td>@FordIndia</td>\n",
       "      <td>1007</td>\n",
       "    </tr>\n",
       "    <tr>\n",
       "      <th>3</th>\n",
       "      <td>@honda2wheelerin</td>\n",
       "      <td>1001</td>\n",
       "    </tr>\n",
       "    <tr>\n",
       "      <th>4</th>\n",
       "      <td>@Toyota_India</td>\n",
       "      <td>880</td>\n",
       "    </tr>\n",
       "  </tbody>\n",
       "</table>\n",
       "</div>"
      ],
      "text/plain": [
       "           Mentions  Mention_count\n",
       "0     @AutoExpo2016           5164\n",
       "1     @Nissan_India           1364\n",
       "2        @FordIndia           1007\n",
       "3  @honda2wheelerin           1001\n",
       "4     @Toyota_India            880"
      ]
     },
     "execution_count": 18,
     "metadata": {},
     "output_type": "execute_result"
    }
   ],
   "source": [
    "mention_df.head()"
   ]
  },
  {
   "cell_type": "code",
   "execution_count": 19,
   "metadata": {
    "collapsed": false
   },
   "outputs": [
    {
     "data": {
      "text/html": [
       "<div>\n",
       "<table border=\"1\" class=\"dataframe\">\n",
       "  <thead>\n",
       "    <tr style=\"text-align: right;\">\n",
       "      <th></th>\n",
       "      <th>TermsOnly</th>\n",
       "      <th>Term_count</th>\n",
       "    </tr>\n",
       "  </thead>\n",
       "  <tbody>\n",
       "    <tr>\n",
       "      <th>0</th>\n",
       "      <td>India</td>\n",
       "      <td>1727</td>\n",
       "    </tr>\n",
       "    <tr>\n",
       "      <th>1</th>\n",
       "      <td>new</td>\n",
       "      <td>1087</td>\n",
       "    </tr>\n",
       "    <tr>\n",
       "      <th>2</th>\n",
       "      <td>BMW</td>\n",
       "      <td>1056</td>\n",
       "    </tr>\n",
       "    <tr>\n",
       "      <th>3</th>\n",
       "      <td>2</td>\n",
       "      <td>1008</td>\n",
       "    </tr>\n",
       "    <tr>\n",
       "      <th>4</th>\n",
       "      <td>Hall</td>\n",
       "      <td>785</td>\n",
       "    </tr>\n",
       "  </tbody>\n",
       "</table>\n",
       "</div>"
      ],
      "text/plain": [
       "  TermsOnly  Term_count\n",
       "0     India        1727\n",
       "1       new        1087\n",
       "2       BMW        1056\n",
       "3         2        1008\n",
       "4      Hall         785"
      ]
     },
     "execution_count": 19,
     "metadata": {},
     "output_type": "execute_result"
    }
   ],
   "source": [
    "termOnly_df.head()"
   ]
  },
  {
   "cell_type": "code",
   "execution_count": 20,
   "metadata": {
    "collapsed": false
   },
   "outputs": [
    {
     "data": {
      "text/html": [
       "<div>\n",
       "<table border=\"1\" class=\"dataframe\">\n",
       "  <thead>\n",
       "    <tr style=\"text-align: right;\">\n",
       "      <th></th>\n",
       "      <th>Language</th>\n",
       "      <th>Language_count</th>\n",
       "    </tr>\n",
       "  </thead>\n",
       "  <tbody>\n",
       "    <tr>\n",
       "      <th>0</th>\n",
       "      <td>English</td>\n",
       "      <td>20937</td>\n",
       "    </tr>\n",
       "    <tr>\n",
       "      <th>1</th>\n",
       "      <td>Indonesian</td>\n",
       "      <td>532</td>\n",
       "    </tr>\n",
       "    <tr>\n",
       "      <th>2</th>\n",
       "      <td>Hindi</td>\n",
       "      <td>469</td>\n",
       "    </tr>\n",
       "    <tr>\n",
       "      <th>3</th>\n",
       "      <td>Tagalog</td>\n",
       "      <td>354</td>\n",
       "    </tr>\n",
       "    <tr>\n",
       "      <th>4</th>\n",
       "      <td>Spanish</td>\n",
       "      <td>235</td>\n",
       "    </tr>\n",
       "    <tr>\n",
       "      <th>5</th>\n",
       "      <td>Italian</td>\n",
       "      <td>148</td>\n",
       "    </tr>\n",
       "    <tr>\n",
       "      <th>6</th>\n",
       "      <td>German</td>\n",
       "      <td>65</td>\n",
       "    </tr>\n",
       "    <tr>\n",
       "      <th>7</th>\n",
       "      <td>French</td>\n",
       "      <td>58</td>\n",
       "    </tr>\n",
       "    <tr>\n",
       "      <th>8</th>\n",
       "      <td>Portuguese</td>\n",
       "      <td>50</td>\n",
       "    </tr>\n",
       "    <tr>\n",
       "      <th>9</th>\n",
       "      <td>Estonian</td>\n",
       "      <td>34</td>\n",
       "    </tr>\n",
       "    <tr>\n",
       "      <th>10</th>\n",
       "      <td>Tamil</td>\n",
       "      <td>33</td>\n",
       "    </tr>\n",
       "    <tr>\n",
       "      <th>11</th>\n",
       "      <td>Dutch</td>\n",
       "      <td>29</td>\n",
       "    </tr>\n",
       "    <tr>\n",
       "      <th>12</th>\n",
       "      <td>Lithuanian</td>\n",
       "      <td>26</td>\n",
       "    </tr>\n",
       "    <tr>\n",
       "      <th>13</th>\n",
       "      <td>Kannada</td>\n",
       "      <td>25</td>\n",
       "    </tr>\n",
       "    <tr>\n",
       "      <th>14</th>\n",
       "      <td>czech</td>\n",
       "      <td>21</td>\n",
       "    </tr>\n",
       "    <tr>\n",
       "      <th>15</th>\n",
       "      <td>Nepali</td>\n",
       "      <td>20</td>\n",
       "    </tr>\n",
       "    <tr>\n",
       "      <th>16</th>\n",
       "      <td>Haitian Creole</td>\n",
       "      <td>20</td>\n",
       "    </tr>\n",
       "    <tr>\n",
       "      <th>17</th>\n",
       "      <td>Russian</td>\n",
       "      <td>20</td>\n",
       "    </tr>\n",
       "    <tr>\n",
       "      <th>18</th>\n",
       "      <td>Malayalam</td>\n",
       "      <td>15</td>\n",
       "    </tr>\n",
       "    <tr>\n",
       "      <th>19</th>\n",
       "      <td>Polish</td>\n",
       "      <td>15</td>\n",
       "    </tr>\n",
       "    <tr>\n",
       "      <th>20</th>\n",
       "      <td>Romanian</td>\n",
       "      <td>13</td>\n",
       "    </tr>\n",
       "    <tr>\n",
       "      <th>21</th>\n",
       "      <td>Japenese</td>\n",
       "      <td>13</td>\n",
       "    </tr>\n",
       "    <tr>\n",
       "      <th>22</th>\n",
       "      <td>Latvian</td>\n",
       "      <td>8</td>\n",
       "    </tr>\n",
       "    <tr>\n",
       "      <th>23</th>\n",
       "      <td>Arabic</td>\n",
       "      <td>8</td>\n",
       "    </tr>\n",
       "    <tr>\n",
       "      <th>24</th>\n",
       "      <td>Bengali</td>\n",
       "      <td>6</td>\n",
       "    </tr>\n",
       "    <tr>\n",
       "      <th>25</th>\n",
       "      <td>Swedish</td>\n",
       "      <td>6</td>\n",
       "    </tr>\n",
       "    <tr>\n",
       "      <th>26</th>\n",
       "      <td>Welsh</td>\n",
       "      <td>6</td>\n",
       "    </tr>\n",
       "    <tr>\n",
       "      <th>27</th>\n",
       "      <td>Norwegian</td>\n",
       "      <td>5</td>\n",
       "    </tr>\n",
       "    <tr>\n",
       "      <th>28</th>\n",
       "      <td>Marathi</td>\n",
       "      <td>5</td>\n",
       "    </tr>\n",
       "    <tr>\n",
       "      <th>29</th>\n",
       "      <td>Finish</td>\n",
       "      <td>4</td>\n",
       "    </tr>\n",
       "    <tr>\n",
       "      <th>30</th>\n",
       "      <td>Gujrati</td>\n",
       "      <td>3</td>\n",
       "    </tr>\n",
       "    <tr>\n",
       "      <th>31</th>\n",
       "      <td>Punjabi</td>\n",
       "      <td>3</td>\n",
       "    </tr>\n",
       "    <tr>\n",
       "      <th>32</th>\n",
       "      <td>Danish</td>\n",
       "      <td>3</td>\n",
       "    </tr>\n",
       "    <tr>\n",
       "      <th>33</th>\n",
       "      <td>Greek</td>\n",
       "      <td>3</td>\n",
       "    </tr>\n",
       "    <tr>\n",
       "      <th>34</th>\n",
       "      <td>Turkish</td>\n",
       "      <td>3</td>\n",
       "    </tr>\n",
       "    <tr>\n",
       "      <th>35</th>\n",
       "      <td>Slovenian</td>\n",
       "      <td>2</td>\n",
       "    </tr>\n",
       "    <tr>\n",
       "      <th>36</th>\n",
       "      <td>Sinhalese</td>\n",
       "      <td>2</td>\n",
       "    </tr>\n",
       "    <tr>\n",
       "      <th>37</th>\n",
       "      <td>Telugu</td>\n",
       "      <td>2</td>\n",
       "    </tr>\n",
       "    <tr>\n",
       "      <th>38</th>\n",
       "      <td>icelandic</td>\n",
       "      <td>2</td>\n",
       "    </tr>\n",
       "    <tr>\n",
       "      <th>39</th>\n",
       "      <td>Bulgarian</td>\n",
       "      <td>1</td>\n",
       "    </tr>\n",
       "  </tbody>\n",
       "</table>\n",
       "</div>"
      ],
      "text/plain": [
       "          Language  Language_count\n",
       "0          English           20937\n",
       "1       Indonesian             532\n",
       "2            Hindi             469\n",
       "3          Tagalog             354\n",
       "4          Spanish             235\n",
       "5          Italian             148\n",
       "6           German              65\n",
       "7           French              58\n",
       "8       Portuguese              50\n",
       "9         Estonian              34\n",
       "10           Tamil              33\n",
       "11           Dutch              29\n",
       "12      Lithuanian              26\n",
       "13         Kannada              25\n",
       "14           czech              21\n",
       "15          Nepali              20\n",
       "16  Haitian Creole              20\n",
       "17         Russian              20\n",
       "18       Malayalam              15\n",
       "19          Polish              15\n",
       "20        Romanian              13\n",
       "21        Japenese              13\n",
       "22         Latvian               8\n",
       "23          Arabic               8\n",
       "24         Bengali               6\n",
       "25         Swedish               6\n",
       "26           Welsh               6\n",
       "27       Norwegian               5\n",
       "28         Marathi               5\n",
       "29          Finish               4\n",
       "30         Gujrati               3\n",
       "31         Punjabi               3\n",
       "32          Danish               3\n",
       "33           Greek               3\n",
       "34         Turkish               3\n",
       "35       Slovenian               2\n",
       "36       Sinhalese               2\n",
       "37          Telugu               2\n",
       "38       icelandic               2\n",
       "39       Bulgarian               1"
      ]
     },
     "execution_count": 20,
     "metadata": {},
     "output_type": "execute_result"
    }
   ],
   "source": [
    "lang_map  ={'ar':'Arabic','bg':'Bulgarian','bn':'Bengali','cs':'czech','cy':'Welsh','da':'Danish','de':'German','el':'Greek',\n",
    "            'en':'English','es':'Spanish','et':'Estonian','fi':'Finish','fr':'French','gu':'Gujrati','hi':'Hindi','ht':'Haitian Creole',\n",
    "           'in':'Indonesian','is':'icelandic','it':'Italian','ja':'Japenese','kn':'Kannada','lt': 'Lithuanian','lv': 'Latvian',\n",
    "            'ml': 'Malayalam','mr': 'Marathi','ne': 'Nepali','nl': 'Dutch','no': 'Norwegian','pa': 'Punjabi','pl': 'Polish',\n",
    "            'pt': 'Portuguese','ro': 'Romanian','ru': 'Russian','si': 'Sinhalese','sl': 'Slovenian','sv': 'Swedish','ta': 'Tamil',\n",
    "            'te': 'Telugu','tl': 'Tagalog','tr': 'Turkish'}\n",
    "lang_df['Language'] = lang_df['Language'].map(lang_map)\n",
    "lang_df"
   ]
  },
  {
   "cell_type": "code",
   "execution_count": 21,
   "metadata": {
    "collapsed": false
   },
   "outputs": [
    {
     "data": {
      "text/html": [
       "<div>\n",
       "<table border=\"1\" class=\"dataframe\">\n",
       "  <thead>\n",
       "    <tr style=\"text-align: right;\">\n",
       "      <th></th>\n",
       "      <th>Hashtags</th>\n",
       "      <th>Hashtag_count</th>\n",
       "      <th>Mentions</th>\n",
       "      <th>Mention_count</th>\n",
       "      <th>TermsOnly</th>\n",
       "      <th>Term_count</th>\n",
       "      <th>Language</th>\n",
       "      <th>Language_count</th>\n",
       "    </tr>\n",
       "  </thead>\n",
       "  <tbody>\n",
       "    <tr>\n",
       "      <th>0</th>\n",
       "      <td>#AutoExpo2016</td>\n",
       "      <td>7190</td>\n",
       "      <td>@AutoExpo2016</td>\n",
       "      <td>5164</td>\n",
       "      <td>India</td>\n",
       "      <td>1727</td>\n",
       "      <td>English</td>\n",
       "      <td>20937</td>\n",
       "    </tr>\n",
       "    <tr>\n",
       "      <th>1</th>\n",
       "      <td>#AETMS16</td>\n",
       "      <td>1764</td>\n",
       "      <td>@Nissan_India</td>\n",
       "      <td>1364</td>\n",
       "      <td>new</td>\n",
       "      <td>1087</td>\n",
       "      <td>Indonesian</td>\n",
       "      <td>532</td>\n",
       "    </tr>\n",
       "    <tr>\n",
       "      <th>2</th>\n",
       "      <td>#NissanPavilion</td>\n",
       "      <td>1714</td>\n",
       "      <td>@FordIndia</td>\n",
       "      <td>1007</td>\n",
       "      <td>BMW</td>\n",
       "      <td>1056</td>\n",
       "      <td>Hindi</td>\n",
       "      <td>469</td>\n",
       "    </tr>\n",
       "    <tr>\n",
       "      <th>3</th>\n",
       "      <td>#AETMS2016</td>\n",
       "      <td>1047</td>\n",
       "      <td>@honda2wheelerin</td>\n",
       "      <td>1001</td>\n",
       "      <td>2</td>\n",
       "      <td>1008</td>\n",
       "      <td>Tagalog</td>\n",
       "      <td>354</td>\n",
       "    </tr>\n",
       "    <tr>\n",
       "      <th>4</th>\n",
       "      <td>#ToyotaAtAutoExpo</td>\n",
       "      <td>889</td>\n",
       "      <td>@Toyota_India</td>\n",
       "      <td>880</td>\n",
       "      <td>Hall</td>\n",
       "      <td>785</td>\n",
       "      <td>Spanish</td>\n",
       "      <td>235</td>\n",
       "    </tr>\n",
       "  </tbody>\n",
       "</table>\n",
       "</div>"
      ],
      "text/plain": [
       "            Hashtags  Hashtag_count          Mentions  Mention_count  \\\n",
       "0      #AutoExpo2016           7190     @AutoExpo2016           5164   \n",
       "1           #AETMS16           1764     @Nissan_India           1364   \n",
       "2    #NissanPavilion           1714        @FordIndia           1007   \n",
       "3         #AETMS2016           1047  @honda2wheelerin           1001   \n",
       "4  #ToyotaAtAutoExpo            889     @Toyota_India            880   \n",
       "\n",
       "  TermsOnly  Term_count    Language  Language_count  \n",
       "0     India        1727     English           20937  \n",
       "1       new        1087  Indonesian             532  \n",
       "2       BMW        1056       Hindi             469  \n",
       "3         2        1008     Tagalog             354  \n",
       "4      Hall         785     Spanish             235  "
      ]
     },
     "execution_count": 21,
     "metadata": {},
     "output_type": "execute_result"
    }
   ],
   "source": [
    "freq_df = pd.concat([hashtag_df,mention_df,termOnly_df,lang_df],axis=1)\n",
    "freq_df.head()"
   ]
  },
  {
   "cell_type": "markdown",
   "metadata": {},
   "source": [
    "## Top 10 Popular Langauges"
   ]
  },
  {
   "cell_type": "code",
   "execution_count": 25,
   "metadata": {
    "collapsed": false
   },
   "outputs": [
    {
     "data": {
      "text/plain": [
       "<seaborn.axisgrid.FacetGrid at 0x1ced67b7390>"
      ]
     },
     "execution_count": 25,
     "metadata": {},
     "output_type": "execute_result"
    },
    {
     "data": {
      "image/png": "[encoded data removed]",
      "text/plain": [
       "<matplotlib.figure.Figure at 0x1ced67b7d30>"
      ]
     },
     "metadata": {},
     "output_type": "display_data"
    }
   ],
   "source": [
    "sns.factorplot(x='Language',y='Language_count',data=freq_df[:10],kind='bar',legend=True,orient=\"v\",aspect=3,palette='Blues_d')"
   ]
  },
  {
   "cell_type": "markdown",
   "metadata": {},
   "source": [
    "## Top 10 Popular hashtags"
   ]
  },
  {
   "cell_type": "code",
   "execution_count": 26,
   "metadata": {
    "collapsed": false
   },
   "outputs": [
    {
     "data": {
      "text/plain": [
       "<seaborn.axisgrid.FacetGrid at 0x1ced669a390>"
      ]
     },
     "execution_count": 26,
     "metadata": {},
     "output_type": "execute_result"
    },
    {
     "data": {
      "image/png": "[encoded data removed]",
      "text/plain": [
       "<matplotlib.figure.Figure at 0x1ced66a25f8>"
      ]
     },
     "metadata": {},
     "output_type": "display_data"
    }
   ],
   "source": [
    "sns.factorplot(x='Hashtag_count',y='Hashtags',data=freq_df[1:11],kind='bar',legend=True,orient=\"h\",size=5,aspect=2,palette='Blues_d')"
   ]
  },
  {
   "cell_type": "markdown",
   "metadata": {},
   "source": [
    "## Top 10 Popular Mentions"
   ]
  },
  {
   "cell_type": "code",
   "execution_count": 27,
   "metadata": {
    "collapsed": false
   },
   "outputs": [
    {
     "data": {
      "text/plain": [
       "<seaborn.axisgrid.FacetGrid at 0x1ced67214e0>"
      ]
     },
     "execution_count": 27,
     "metadata": {},
     "output_type": "execute_result"
    },
    {
     "data": {
      "image/png": "[encoded data removed]",
      "text/plain": [
       "<matplotlib.figure.Figure at 0x1ced674d128>"
      ]
     },
     "metadata": {},
     "output_type": "display_data"
    }
   ],
   "source": [
    "sns.factorplot(x='Mention_count',y='Mentions',data=freq_df[1:11],kind='bar',legend=True,orient=\"h\",size=5,aspect=2,palette='Blues_d')"
   ]
  },
  {
   "cell_type": "markdown",
   "metadata": {},
   "source": [
    "## Top 10 Popular Terms other than hastags and mentions"
   ]
  },
  {
   "cell_type": "code",
   "execution_count": 29,
   "metadata": {
    "collapsed": false
   },
   "outputs": [
    {
     "data": {
      "text/plain": [
       "<seaborn.axisgrid.FacetGrid at 0x1ced69c85c0>"
      ]
     },
     "execution_count": 29,
     "metadata": {},
     "output_type": "execute_result"
    },
    {
     "data": {
      "image/png": "[encoded data removed]",
      "text/plain": [
       "<matplotlib.figure.Figure at 0x1ced69c8da0>"
      ]
     },
     "metadata": {},
     "output_type": "display_data"
    }
   ],
   "source": [
    "sns.factorplot(x='Term_count',y='TermsOnly',data=freq_df[:10],kind='bar',legend=True,orient=\"h\",size=5,aspect=2,palette='Blues_d')"
   ]
  },
  {
   "cell_type": "code",
   "execution_count": 37,
   "metadata": {
    "collapsed": false
   },
   "outputs": [
    {
     "data": {
      "text/html": [
       "<div>\n",
       "<table border=\"1\" class=\"dataframe\">\n",
       "  <thead>\n",
       "    <tr style=\"text-align: right;\">\n",
       "      <th></th>\n",
       "      <th>contributors</th>\n",
       "      <th>coordinates</th>\n",
       "      <th>created_at</th>\n",
       "      <th>entities</th>\n",
       "      <th>extended_entities</th>\n",
       "      <th>favorite_count</th>\n",
       "      <th>favorited</th>\n",
       "      <th>filter_level</th>\n",
       "      <th>geo</th>\n",
       "      <th>id</th>\n",
       "      <th>...</th>\n",
       "      <th>quoted_status_id</th>\n",
       "      <th>quoted_status_id_str</th>\n",
       "      <th>retweet_count</th>\n",
       "      <th>retweeted</th>\n",
       "      <th>retweeted_status</th>\n",
       "      <th>source</th>\n",
       "      <th>text</th>\n",
       "      <th>timestamp_ms</th>\n",
       "      <th>truncated</th>\n",
       "      <th>user</th>\n",
       "    </tr>\n",
       "  </thead>\n",
       "  <tbody>\n",
       "    <tr>\n",
       "      <th>0</th>\n",
       "      <td>None</td>\n",
       "      <td>None</td>\n",
       "      <td>Fri Feb 05 13:00:05 +0000 2016</td>\n",
       "      <td>{'urls': [{'display_url': 'hyperurl.co/presspl...</td>\n",
       "      <td>{'media': [{'expanded_url': 'http://twitter.co...</td>\n",
       "      <td>0</td>\n",
       "      <td>False</td>\n",
       "      <td>low</td>\n",
       "      <td>None</td>\n",
       "      <td>695592733998710785</td>\n",
       "      <td>...</td>\n",
       "      <td>NaN</td>\n",
       "      <td>NaN</td>\n",
       "      <td>0</td>\n",
       "      <td>False</td>\n",
       "      <td>{'id': 695231675727360007, 'possibly_sensitive...</td>\n",
       "      <td>&lt;a href=\"http://twitter.com\" rel=\"nofollow\"&gt;Tw...</td>\n",
       "      <td>RT @PressPlayTVapp: Get all action from @AutoE...</td>\n",
       "      <td>1454677205930</td>\n",
       "      <td>False</td>\n",
       "      <td>{'default_profile_image': False, 'id': 3800552...</td>\n",
       "    </tr>\n",
       "    <tr>\n",
       "      <th>1</th>\n",
       "      <td>None</td>\n",
       "      <td>None</td>\n",
       "      <td>Fri Feb 05 13:00:13 +0000 2016</td>\n",
       "      <td>{'urls': [{'display_url': 'ln.is/www.youtube.c...</td>\n",
       "      <td>NaN</td>\n",
       "      <td>0</td>\n",
       "      <td>False</td>\n",
       "      <td>low</td>\n",
       "      <td>None</td>\n",
       "      <td>695592766412341248</td>\n",
       "      <td>...</td>\n",
       "      <td>NaN</td>\n",
       "      <td>NaN</td>\n",
       "      <td>0</td>\n",
       "      <td>False</td>\n",
       "      <td>NaN</td>\n",
       "      <td>&lt;a href=\"http://linkis.com\" rel=\"nofollow\"&gt;Lin...</td>\n",
       "      <td>Now GO-cross Concept has added a sense of fun ...</td>\n",
       "      <td>1454677213658</td>\n",
       "      <td>False</td>\n",
       "      <td>{'default_profile_image': False, 'id': 3831798...</td>\n",
       "    </tr>\n",
       "    <tr>\n",
       "      <th>2</th>\n",
       "      <td>None</td>\n",
       "      <td>None</td>\n",
       "      <td>Fri Feb 05 13:00:17 +0000 2016</td>\n",
       "      <td>{'urls': [], 'media': [{'expanded_url': 'http:...</td>\n",
       "      <td>{'media': [{'expanded_url': 'http://twitter.co...</td>\n",
       "      <td>0</td>\n",
       "      <td>False</td>\n",
       "      <td>low</td>\n",
       "      <td>None</td>\n",
       "      <td>695592780588929024</td>\n",
       "      <td>...</td>\n",
       "      <td>NaN</td>\n",
       "      <td>NaN</td>\n",
       "      <td>0</td>\n",
       "      <td>False</td>\n",
       "      <td>{'id': 695572901282476032, 'possibly_sensitive...</td>\n",
       "      <td>&lt;a href=\"http://twitter.com/download/iphone\" r...</td>\n",
       "      <td>RT @AutoExpo2016: It's raining celebrities at ...</td>\n",
       "      <td>1454677217038</td>\n",
       "      <td>False</td>\n",
       "      <td>{'default_profile_image': False, 'id': 3108283...</td>\n",
       "    </tr>\n",
       "    <tr>\n",
       "      <th>3</th>\n",
       "      <td>None</td>\n",
       "      <td>None</td>\n",
       "      <td>Fri Feb 05 13:00:18 +0000 2016</td>\n",
       "      <td>{'urls': [{'display_url': 'vine.co/v/iJ0QjLV6a...</td>\n",
       "      <td>NaN</td>\n",
       "      <td>0</td>\n",
       "      <td>False</td>\n",
       "      <td>low</td>\n",
       "      <td>None</td>\n",
       "      <td>695592786377252864</td>\n",
       "      <td>...</td>\n",
       "      <td>NaN</td>\n",
       "      <td>NaN</td>\n",
       "      <td>0</td>\n",
       "      <td>False</td>\n",
       "      <td>NaN</td>\n",
       "      <td>&lt;a href=\"http://vine.co\" rel=\"nofollow\"&gt;Vine -...</td>\n",
       "      <td>The Honda BR-V at the #AutoExpo2016 , how does...</td>\n",
       "      <td>1454677218418</td>\n",
       "      <td>False</td>\n",
       "      <td>{'default_profile_image': False, 'id': 2982269...</td>\n",
       "    </tr>\n",
       "    <tr>\n",
       "      <th>4</th>\n",
       "      <td>None</td>\n",
       "      <td>None</td>\n",
       "      <td>Fri Feb 05 13:00:20 +0000 2016</td>\n",
       "      <td>{'urls': [{'display_url': 't.in.com/aZg7', 'ex...</td>\n",
       "      <td>{'media': [{'expanded_url': 'http://twitter.co...</td>\n",
       "      <td>0</td>\n",
       "      <td>False</td>\n",
       "      <td>low</td>\n",
       "      <td>None</td>\n",
       "      <td>695592795348664320</td>\n",
       "      <td>...</td>\n",
       "      <td>NaN</td>\n",
       "      <td>NaN</td>\n",
       "      <td>0</td>\n",
       "      <td>False</td>\n",
       "      <td>{'id': 695571157970350080, 'possibly_sensitive...</td>\n",
       "      <td>&lt;a href=\"http://twitter.com/download/android\" ...</td>\n",
       "      <td>RT @moneycontrolcom: BMW launches X5 xDrive30d...</td>\n",
       "      <td>1454677220557</td>\n",
       "      <td>False</td>\n",
       "      <td>{'default_profile_image': False, 'id': 1247596...</td>\n",
       "    </tr>\n",
       "  </tbody>\n",
       "</table>\n",
       "<p>5 rows × 31 columns</p>\n",
       "</div>"
      ],
      "text/plain": [
       "  contributors coordinates                      created_at  \\\n",
       "0         None        None  Fri Feb 05 13:00:05 +0000 2016   \n",
       "1         None        None  Fri Feb 05 13:00:13 +0000 2016   \n",
       "2         None        None  Fri Feb 05 13:00:17 +0000 2016   \n",
       "3         None        None  Fri Feb 05 13:00:18 +0000 2016   \n",
       "4         None        None  Fri Feb 05 13:00:20 +0000 2016   \n",
       "\n",
       "                                            entities  \\\n",
       "0  {'urls': [{'display_url': 'hyperurl.co/presspl...   \n",
       "1  {'urls': [{'display_url': 'ln.is/www.youtube.c...   \n",
       "2  {'urls': [], 'media': [{'expanded_url': 'http:...   \n",
       "3  {'urls': [{'display_url': 'vine.co/v/iJ0QjLV6a...   \n",
       "4  {'urls': [{'display_url': 't.in.com/aZg7', 'ex...   \n",
       "\n",
       "                                   extended_entities  favorite_count  \\\n",
       "0  {'media': [{'expanded_url': 'http://twitter.co...               0   \n",
       "1                                                NaN               0   \n",
       "2  {'media': [{'expanded_url': 'http://twitter.co...               0   \n",
       "3                                                NaN               0   \n",
       "4  {'media': [{'expanded_url': 'http://twitter.co...               0   \n",
       "\n",
       "  favorited filter_level   geo                  id  \\\n",
       "0     False          low  None  695592733998710785   \n",
       "1     False          low  None  695592766412341248   \n",
       "2     False          low  None  695592780588929024   \n",
       "3     False          low  None  695592786377252864   \n",
       "4     False          low  None  695592795348664320   \n",
       "\n",
       "                         ...                         quoted_status_id  \\\n",
       "0                        ...                                      NaN   \n",
       "1                        ...                                      NaN   \n",
       "2                        ...                                      NaN   \n",
       "3                        ...                                      NaN   \n",
       "4                        ...                                      NaN   \n",
       "\n",
       "  quoted_status_id_str  retweet_count retweeted  \\\n",
       "0                  NaN              0     False   \n",
       "1                  NaN              0     False   \n",
       "2                  NaN              0     False   \n",
       "3                  NaN              0     False   \n",
       "4                  NaN              0     False   \n",
       "\n",
       "                                    retweeted_status  \\\n",
       "0  {'id': 695231675727360007, 'possibly_sensitive...   \n",
       "1                                                NaN   \n",
       "2  {'id': 695572901282476032, 'possibly_sensitive...   \n",
       "3                                                NaN   \n",
       "4  {'id': 695571157970350080, 'possibly_sensitive...   \n",
       "\n",
       "                                              source  \\\n",
       "0  <a href=\"http://twitter.com\" rel=\"nofollow\">Tw...   \n",
       "1  <a href=\"http://linkis.com\" rel=\"nofollow\">Lin...   \n",
       "2  <a href=\"http://twitter.com/download/iphone\" r...   \n",
       "3  <a href=\"http://vine.co\" rel=\"nofollow\">Vine -...   \n",
       "4  <a href=\"http://twitter.com/download/android\" ...   \n",
       "\n",
       "                                                text   timestamp_ms truncated  \\\n",
       "0  RT @PressPlayTVapp: Get all action from @AutoE...  1454677205930     False   \n",
       "1  Now GO-cross Concept has added a sense of fun ...  1454677213658     False   \n",
       "2  RT @AutoExpo2016: It's raining celebrities at ...  1454677217038     False   \n",
       "3  The Honda BR-V at the #AutoExpo2016 , how does...  1454677218418     False   \n",
       "4  RT @moneycontrolcom: BMW launches X5 xDrive30d...  1454677220557     False   \n",
       "\n",
       "                                                user  \n",
       "0  {'default_profile_image': False, 'id': 3800552...  \n",
       "1  {'default_profile_image': False, 'id': 3831798...  \n",
       "2  {'default_profile_image': False, 'id': 3108283...  \n",
       "3  {'default_profile_image': False, 'id': 2982269...  \n",
       "4  {'default_profile_image': False, 'id': 1247596...  \n",
       "\n",
       "[5 rows x 31 columns]"
      ]
     },
     "execution_count": 37,
     "metadata": {},
     "output_type": "execute_result"
    }
   ],
   "source": [
    "autoExpo_df = DataFrame(tweets)\n",
    "autoExpo_df.head()"
   ]
  },
  {
   "cell_type": "code",
   "execution_count": 50,
   "metadata": {
    "collapsed": false
   },
   "outputs": [
    {
     "name": "stdout",
     "output_type": "stream",
     "text": [
      "<class 'pandas.core.frame.DataFrame'>\n",
      "Int64Index: 24087 entries, 0 to 24086\n",
      "Data columns (total 31 columns):\n",
      "contributors                 0 non-null object\n",
      "coordinates                  129 non-null object\n",
      "created_at                   24087 non-null object\n",
      "entities                     24087 non-null object\n",
      "extended_entities            10366 non-null object\n",
      "favorite_count               24087 non-null int64\n",
      "favorited                    24087 non-null bool\n",
      "filter_level                 24087 non-null object\n",
      "geo                          129 non-null object\n",
      "id                           24087 non-null int64\n",
      "id_str                       24087 non-null object\n",
      "in_reply_to_screen_name      2358 non-null object\n",
      "in_reply_to_status_id        1475 non-null float64\n",
      "in_reply_to_status_id_str    1475 non-null object\n",
      "in_reply_to_user_id          2358 non-null float64\n",
      "in_reply_to_user_id_str      2358 non-null object\n",
      "is_quote_status              24087 non-null bool\n",
      "lang                         24087 non-null object\n",
      "place                        569 non-null object\n",
      "possibly_sensitive           19483 non-null object\n",
      "quoted_status                758 non-null object\n",
      "quoted_status_id             758 non-null float64\n",
      "quoted_status_id_str         758 non-null object\n",
      "retweet_count                24087 non-null int64\n",
      "retweeted                    24087 non-null bool\n",
      "retweeted_status             10395 non-null object\n",
      "source                       24087 non-null object\n",
      "text                         24087 non-null object\n",
      "timestamp_ms                 24087 non-null object\n",
      "truncated                    24087 non-null bool\n",
      "user                         24087 non-null object\n",
      "dtypes: bool(4), float64(3), int64(3), object(21)\n",
      "memory usage: 5.2+ MB\n"
     ]
    }
   ],
   "source": [
    "autoExpo_df.info()"
   ]
  },
  {
   "cell_type": "code",
   "execution_count": null,
   "metadata": {
    "collapsed": false
   },
   "outputs": [],
   "source": []
  },
  {
   "cell_type": "code",
   "execution_count": null,
   "metadata": {
    "collapsed": true
   },
   "outputs": [],
   "source": []
  },
  {
   "cell_type": "code",
   "execution_count": 178,
   "metadata": {
    "collapsed": false
   },
   "outputs": [],
   "source": []
  },
  {
   "cell_type": "code",
   "execution_count": 179,
   "metadata": {
    "collapsed": false
   },
   "outputs": [],
   "source": []
  },
  {
   "cell_type": "code",
   "execution_count": null,
   "metadata": {
    "collapsed": false
   },
   "outputs": [],
   "source": []
  },
  {
   "cell_type": "code",
   "execution_count": null,
   "metadata": {
    "collapsed": false
   },
   "outputs": [],
   "source": []
  },
  {
   "cell_type": "code",
   "execution_count": null,
   "metadata": {
    "collapsed": false
   },
   "outputs": [],
   "source": []
  },
  {
   "cell_type": "code",
   "execution_count": null,
   "metadata": {
    "collapsed": false
   },
   "outputs": [],
   "source": []
  },
  {
   "cell_type": "code",
   "execution_count": null,
   "metadata": {
    "collapsed": false
   },
   "outputs": [],
   "source": []
  },
  {
   "cell_type": "code",
   "execution_count": 113,
   "metadata": {
    "collapsed": false
   },
   "outputs": [],
   "source": []
  },
  {
   "cell_type": "code",
   "execution_count": null,
   "metadata": {
    "collapsed": false
   },
   "outputs": [],
   "source": []
  },
  {
   "cell_type": "code",
   "execution_count": null,
   "metadata": {
    "collapsed": true
   },
   "outputs": [],
   "source": []
  },
  {
   "cell_type": "code",
   "execution_count": null,
   "metadata": {
    "collapsed": true
   },
   "outputs": [],
   "source": []
  }
 ],
 "metadata": {
  "kernelspec": {
   "display_name": "Python 3",
   "language": "python",
   "name": "python3"
  },
  "language_info": {
   "codemirror_mode": {
    "name": "ipython",
    "version": 3
   },
   "file_extension": ".py",
   "mimetype": "text/x-python",
   "name": "python",
   "nbconvert_exporter": "python",
   "pygments_lexer": "ipython3",
   "version": "3.5.1"
  }
 },
 "nbformat": 4,
 "nbformat_minor": 0
}
